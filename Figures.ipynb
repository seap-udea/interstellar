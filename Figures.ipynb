{
 "cells": [
  {
   "cell_type": "code",
   "execution_count": 1,
   "metadata": {
    "collapsed": true
   },
   "outputs": [],
   "source": [
    "import matplotlib.pyplot as plt\n",
    "import numpy as np\n",
    "%matplotlib nbagg\n",
    "from mpl_toolkits.mplot3d import Axes3D\n",
    "import pandas as pd\n",
    "verbose=1"
   ]
  },
  {
   "cell_type": "markdown",
   "metadata": {},
   "source": [
    "    Data map:\n",
    "    0:i\n",
    "    1:tdb (terminal)\n",
    "    2:tdb (future)\n",
    "    3-8:Position Ecliptic J2000\n",
    "    9-14:Position J2000\n",
    "    15-20:Position Galactic J2000\n",
    "    21:RA(h) (terminal)\n",
    "    22:DEC(deg)\n",
    "    23:l(deg)\n",
    "    24:b(deg)\n",
    "    25:d(AU)\n",
    "    26-33:Asymptotic elements, q,e,i,W,w,Mo,to,mu\n",
    "    34-39:Future Position Ecliptic J2000\n",
    "    40-45:Future Position Galactic \n",
    "    46:RA(h) (future)\n",
    "    47:DEC(deg)\n",
    "    48:l(deg)\n",
    "    49:b(deg)\n",
    "    50:d(pc)\n",
    "    51-58:Initial elements, q,e,i,W,w,Mo,to,mu"
   ]
  },
  {
   "cell_type": "code",
   "execution_count": null,
   "metadata": {
    "collapsed": true
   },
   "outputs": [],
   "source": [
    "#Constants\n",
    "AU=1.465e8\n",
    "LY=9.4608e12"
   ]
  },
  {
   "cell_type": "code",
   "execution_count": null,
   "metadata": {
    "collapsed": true
   },
   "outputs": [],
   "source": [
    "data=np.loadtxt(\"cloud-nomult.data\")\n",
    "datan=np.loadtxt(\"cloud-many.data\")\n",
    "data=np.loadtxt(\"cloud-many.data\")\n",
    "data=np.loadtxt(\"cloud.data\")"
   ]
  },
  {
   "cell_type": "code",
   "execution_count": null,
   "metadata": {
    "collapsed": false
   },
   "outputs": [],
   "source": [
    "#Elements\n",
    "qs=data[1:,51]\n",
    "es=data[1:,52]\n",
    "if verbose:print(\"Means: q:\",qs.mean()/AU,\", e:\",es.mean())\n",
    "if verbose:print(\"Dispersion: q:\",qs.std()/AU,\", e:\",es.std())\n",
    "\n",
    "fig=plt.figure()\n",
    "ax=fig.gca()\n",
    "ax.plot(qs/AU,es,'ko',ms=1)\n"
   ]
  },
  {
   "cell_type": "code",
   "execution_count": null,
   "metadata": {
    "collapsed": false
   },
   "outputs": [],
   "source": [
    "#Terminal J2000 coordinates\n",
    "RAs=data[:,21]\n",
    "DECs=data[:,22]\n",
    "if verbose:print(\"Means: RA:\",15*RAs.mean(),\", DEC:\",DECs.mean())\n",
    "if verbose:print(\"Dispersion: q:\",15*RAs.std(),\", e:\",DECs.std())\n",
    "\n",
    "fig=plt.figure()\n",
    "ax=fig.gca()\n",
    "ax.plot(15*RAs,DECs,'ko',ms=1)\n",
    "\n",
    "ax.set_xlabel('RA (deg)')\n",
    "ax.set_ylabel('DEC (deg)')"
   ]
  },
  {
   "cell_type": "code",
   "execution_count": null,
   "metadata": {
    "collapsed": true
   },
   "outputs": [],
   "source": [
    "#Future J2000 coordinates\n",
    "RAs=data[:,46]\n",
    "DECs=data[:,47]"
   ]
  },
  {
   "cell_type": "code",
   "execution_count": null,
   "metadata": {
    "collapsed": false
   },
   "outputs": [],
   "source": [
    "fig=plt.figure()\n",
    "ax=fig.gca()\n",
    "ax.plot(RAs,DECs,'ko',ms=1)"
   ]
  },
  {
   "cell_type": "code",
   "execution_count": null,
   "metadata": {
    "collapsed": false
   },
   "outputs": [],
   "source": [
    "#Terminal positions\n",
    "xts=data[:,3]\n",
    "yts=data[:,4]\n",
    "zts=data[:,5]\n",
    "rts=np.sqrt(xts**2+yts**2+zts**2)\n",
    "#Dispersion\n",
    "if verbose:print(\"Dispersion in AU:\",xts.std()/AU,yts.std()/AU,zts.std()/AU)\n",
    "disp=zts.std()/rts.mean()\n",
    "if verbose:print(\"Percentual dispersion:\",disp)"
   ]
  },
  {
   "cell_type": "code",
   "execution_count": null,
   "metadata": {
    "collapsed": false
   },
   "outputs": [],
   "source": [
    "fig=plt.figure()\n",
    "ax=fig.gca()\n",
    "ax.plot(xts,yts,'ko',ms=1)"
   ]
  },
  {
   "cell_type": "code",
   "execution_count": null,
   "metadata": {
    "collapsed": false
   },
   "outputs": [],
   "source": [
    "#Future positions\n",
    "xfs=data[:,34]\n",
    "yfs=data[:,35]\n",
    "zfs=data[:,36]\n",
    "rfs=np.sqrt(xfs**2+yfs**2+zfs**2)\n",
    "#Dispersion\n",
    "if verbose:print(\"Dispersion in ly:\",xfs.std()/LY,yfs.std()/LY,zfs.std()/LY)\n",
    "disp=zfs.std()/rfs.mean()\n",
    "if verbose:print(\"Percentual dispersion:\",disp)"
   ]
  },
  {
   "cell_type": "code",
   "execution_count": null,
   "metadata": {
    "collapsed": false
   },
   "outputs": [],
   "source": [
    "fig=plt.figure()\n",
    "ax=fig.gca()\n",
    "ax.plot(xfs,yfs,'ko',ms=1)"
   ]
  },
  {
   "cell_type": "code",
   "execution_count": null,
   "metadata": {
    "collapsed": false
   },
   "outputs": [],
   "source": [
    "fig = plt.figure()\n",
    "ax = fig.add_subplot(111, projection='3d')\n",
    "rt=rts.mean()\n",
    "xns=xts/rt\n",
    "yns=yts/rt\n",
    "zns=zts/rt\n",
    "ax.plot(xns,yns,zns,'ko',ms=1)"
   ]
  },
  {
   "cell_type": "code",
   "execution_count": null,
   "metadata": {
    "collapsed": false
   },
   "outputs": [],
   "source": [
    "#Elements\n",
    "qs=data[:,51]/AU\n",
    "es=data[:,52]\n",
    "ies=data[:,53]\n",
    "Ws=data[:,54]"
   ]
  },
  {
   "cell_type": "code",
   "execution_count": null,
   "metadata": {
    "collapsed": false
   },
   "outputs": [],
   "source": [
    "fig=plt.figure()\n",
    "ax=fig.gca()\n",
    "ax.plot(es,Ws,'ko',ms=1)"
   ]
  },
  {
   "cell_type": "code",
   "execution_count": null,
   "metadata": {
    "collapsed": false
   },
   "outputs": [],
   "source": [
    "#Covariance matrix\n",
    "means=[1.197188708990351,.2544567273446408,2458005.972892582579,24.60295925659798,241.5429238264925,122.604016492383]\n",
    "covariance=[\n",
    "  [2.858709169167452E-6,1.098820139532213E-6,2.140740994127999E-5,-4.629574614074441E-6,.0001980724106465366,.0001029927307342494],\n",
    "  [1.098820139532213E-6,4.223650568138116E-7,8.228257068002674E-6,-1.779505280075431E-6,7.613474148207401E-5,3.958804146112113E-5],\n",
    "  [2.140740994127999E-5,8.228257068002674E-6,.0001603227078400257,-3.466805081263181E-5,.001483242149313819,.0007712542878842905],\n",
    "  [-4.629574614074441E-6,-1.779505280075431E-6,-3.466805081263181E-5,7.497524956627533E-6,-.0003207714690047103,-.000166792920108298],\n",
    "  [.0001980724106465366,7.613474148207401E-5,.001483242149313819,-.0003207714690047103,.01372394843890766,.007136100317461406],\n",
    "  [.0001029927307342494,3.958804146112113E-5,.0007712542878842905,-.000166792920108298,.007136100317461406,.003710639376110803],\n",
    "  ]\n",
    "\n",
    "covariance=np.array(covariance)\n",
    "dcovariance=np.zeros_like(covariance)\n",
    "for i in range(6):\n",
    "    dcovariance[i,i]=covariance[i,i]"
   ]
  },
  {
   "cell_type": "code",
   "execution_count": null,
   "metadata": {
    "collapsed": true
   },
   "outputs": [],
   "source": [
    "values=np.random.multivariate_normal(means,dcovariance,1000)"
   ]
  },
  {
   "cell_type": "code",
   "execution_count": null,
   "metadata": {
    "collapsed": false
   },
   "outputs": [],
   "source": [
    "if verbose:print(values.shape)"
   ]
  },
  {
   "cell_type": "code",
   "execution_count": null,
   "metadata": {
    "collapsed": false
   },
   "outputs": [],
   "source": [
    "fig=plt.figure()\n",
    "ax=fig.gca()\n",
    "ax.plot(values[:,0],values[:,1],'ko',ms=1)"
   ]
  },
  {
   "cell_type": "code",
   "execution_count": null,
   "metadata": {
    "collapsed": false
   },
   "outputs": [],
   "source": [
    "fig=plt.figure()\n",
    "ax=fig.add_subplot(111,projection='3d')\n",
    "ax.plot(values[:,0],values[:,1],values[:,2],'ko',ms=1)"
   ]
  },
  {
   "cell_type": "markdown",
   "metadata": {
    "collapsed": true
   },
   "source": [
    "## Lines intersection"
   ]
  },
  {
   "cell_type": "code",
   "execution_count": null,
   "metadata": {
    "collapsed": false
   },
   "outputs": [],
   "source": [
    "C=3E5 #km/s\n",
    "YEAR=365.25*86400 #s\n",
    "LY=C*YEAR #km\n",
    "PARSEC=3.2616*LY #km\n",
    "if verbose:print(\"1 parsec = %e km\"%PARSEC)\n",
    "\n",
    "#Units\n",
    "PPY=PARSEC/YEAR \n",
    "if verbose:print(\"1 pc/year = %e km/s\"%PPY)"
   ]
  },
  {
   "cell_type": "code",
   "execution_count": null,
   "metadata": {
    "collapsed": false
   },
   "outputs": [],
   "source": [
    "#Definitions of lines\n",
    "p1=np.array([0,0,0]);d1=np.array([0,0,1])\n",
    "p2=np.array([1,0,0]);d2=np.array([1,0,1])\n",
    "\n",
    "#Actual data\n",
    "#Our object: \n",
    "p1=np.array([5.78971383586522936e+00,1.14501432490714183e+01,3.89758448167880145e+00])\n",
    "d1=np.array([-1.13203438793190063e+01,-2.23879147871595947e+01,-7.62075215522603067e+00])/PPY\n",
    "\n",
    "#Star data ()\n",
    "p2=np.array([-1.39195331002988240e+02, 1.26930155523994657e+01, -1.54372105428406201e+02])\n",
    "d2=np.array([-10.23491, -16.60858, -34.30936])/PPY\n",
    "\n",
    "#Closest star\n",
    "p2=np.array([107.91891000000001, -428.38295, -234.92487000000003])\n",
    "d2=np.array([-1.00043, -5.59274, -2.40552])/PPY\n",
    "\n",
    "#Similar\n",
    "p2=np.array([147.671, 79.1533, -178.551])\n",
    "d2=np.array([-9.56911, -19.8781, -7.687880000000001])/PPY\n",
    "\n",
    "#Closer\n",
    "#-4.19605, 10.7816, -7.46557, -12.4072, -20.0619, -9.6609\n",
    "p2=np.array([-4.19605, 10.7816, -7.46557])\n",
    "d2=np.array([-12.4072, -20.0619, -9.6609])/PPY\n",
    "\n",
    "#Problematic\n",
    "p2=np.array([-4.33408e+01, 4.66358e+00, -3.74980e+02])\n",
    "d2=np.array([-9.65888e+00, -7.97706e+00, -4.87376e+01])/PPY\n",
    "\n",
    "#Star data (Star 0):\n",
    "p2=np.array([-3.16028220972354973e+02, 1.84156158702263504e+01, -3.58527081068144980e+02])\n",
    "d2=np.array([13.37458, -17.29674, -15.42706])/PPY\n",
    "\n",
    "#New candidates\n",
    "p2=np.array([-20.185400000000001,-2.9136900000000003,16.673200000000001])\n",
    "d2=np.array([-45.270899999999997,-39.641500000000001,8.8886599999999998])/PPY\n",
    "\n",
    "#High velocity star\n",
    "p2=np.array([-22.1313, 5.2090100000000001, 14.912699999999999])\n",
    "d2=np.array([-16.180199999999999, -22.9924, -5.5882699999999996])/PPY\n",
    "\n",
    "UT=1e7"
   ]
  },
  {
   "cell_type": "code",
   "execution_count": null,
   "metadata": {
    "collapsed": false
   },
   "outputs": [],
   "source": [
    "data.iloc[30][\"hip\"]"
   ]
  },
  {
   "cell_type": "code",
   "execution_count": null,
   "metadata": {
    "collapsed": false
   },
   "outputs": [],
   "source": [
    "GAIA[GAIA[\"hip\"]==40170.0]"
   ]
  },
  {
   "cell_type": "code",
   "execution_count": null,
   "metadata": {
    "collapsed": false
   },
   "outputs": [],
   "source": [
    "#Test if lines are skewed\n",
    "a=p1+d1;b=p1+2*d1\n",
    "c=p2+d2;d=p2+2*d2\n",
    "VM=np.vstack((a-b,b-c,c-d))\n",
    "detVM=np.linalg.det(VM)\n",
    "if verbose:print(detVM)"
   ]
  },
  {
   "cell_type": "code",
   "execution_count": null,
   "metadata": {
    "collapsed": false
   },
   "outputs": [],
   "source": [
    "#Distance\n",
    "n=np.cross(d1,d2)\n",
    "d=np.dot(n,(p1-p2))/np.linalg.norm(n)\n",
    "if verbose:print(\"Distance between lines:\",d)"
   ]
  },
  {
   "cell_type": "code",
   "execution_count": null,
   "metadata": {
    "collapsed": false
   },
   "outputs": [],
   "source": [
    "#Nearest points\n",
    "n=np.cross(d1,d2)\n",
    "n1=np.cross(d1,n)\n",
    "n2=np.cross(d2,n)\n",
    "\n",
    "c1=p1+np.dot((p2-p1),n2)/np.dot(d1,n2)*d1\n",
    "c2=p2+np.dot((p1-p2),n1)/np.dot(d2,n1)*d2\n",
    "\n",
    "if verbose:print(\"Nearest point in line 1:\",c1)\n",
    "if verbose:print(\"Nearest point in line 2:\",c2)"
   ]
  },
  {
   "cell_type": "code",
   "execution_count": null,
   "metadata": {
    "collapsed": false
   },
   "outputs": [],
   "source": [
    "#Compute time of encounter\n",
    "print(c2[0],p2[0],d2[0])\n",
    "t=(c1[0]-p1[0])/d1[0]\n",
    "if verbose:print(\"Encounter time:\",t)\n",
    "t=(c2[0]-p2[0])/d2[0]\n",
    "if verbose:print(\"Encounter time:\",t)"
   ]
  },
  {
   "cell_type": "code",
   "execution_count": null,
   "metadata": {
    "collapsed": false
   },
   "outputs": [],
   "source": [
    "#Time of minimum distance\n",
    "dp=p1-p2\n",
    "dv=d1-d2\n",
    "dvmag=np.linalg.norm(dv)\n",
    "tsimin=-np.dot(dp,dv)/(dvmag*dvmag)\n",
    "print(tsimin)\n",
    "dsimin=np.linalg.norm(dp+dv*tsimin)\n",
    "print(dsimin)"
   ]
  },
  {
   "cell_type": "code",
   "execution_count": null,
   "metadata": {
    "collapsed": false
   },
   "outputs": [],
   "source": [
    "dp,dv,d1,d2"
   ]
  },
  {
   "cell_type": "code",
   "execution_count": null,
   "metadata": {
    "collapsed": false
   },
   "outputs": [],
   "source": [
    "ts=np.linspace(-10,10,10000)\n",
    "r1s=np.array([p1+d1*t for t in ts])\n",
    "r2s=np.array([p2+d2*t for t in ts])\n",
    "ds=np.array([np.linalg.norm(r1s[i]-r2s[i]) for i in range(len(ts))])\n",
    "imin=ds.argmin()\n",
    "print(ts[imin]/1e6,ds[imin])"
   ]
  },
  {
   "cell_type": "code",
   "execution_count": null,
   "metadata": {
    "collapsed": false
   },
   "outputs": [],
   "source": [
    "#Plot\n",
    "ts=np.linspace(-10.0*UT,10.0*UT,100)\n",
    "r1s=np.array([p1+d1*t for t in ts])\n",
    "r2s=np.array([p2+d2*t for t in ts])\n",
    "\n",
    "fig=plt.figure()\n",
    "ax=fig.add_subplot(111,projection='3d')\n",
    "\n",
    "ax.plot([0],[0],[0],'o',color='yellow',ms=10)\n",
    "\n",
    "\n",
    "ax.plot(r1s[:,0],r1s[:,1],r1s[:,2],'b-') #BLUE IS BODY\n",
    "ax.plot(r2s[:,0],r2s[:,1],r2s[:,2],'r-') #RED IS STAR\n",
    "\n",
    "ax.plot([p1[0]],[p1[1]],[p1[2]],'g^',ms=10)\n",
    "ax.plot([p2[0]],[p2[1]],[p2[2]],'g^',ms=10)\n",
    "\n",
    "dt=1*UT\n",
    "ax.plot([p1[0],p1[0]+dt*d1[0]],[p1[1],p1[1]+dt*d1[1]],[p1[2],p1[2]+dt*d1[2]],'g-',ms=10)\n",
    "ax.plot([p2[0],p2[0]+dt*d2[0]],[p2[1],p2[1]+dt*d2[1]],[p2[2],p2[2]+dt*d2[2]],'g-',ms=10)\n",
    "\n",
    "ax.plot([c1[0]],[c1[1]],[c1[2]],'rs',ms=10)\n",
    "ax.plot([c2[0]],[c2[1]],[c2[2]],'rs',ms=10)\n",
    "ax.plot([c1[0],c2[0]],[c1[1],c2[1]],[c1[2],c2[2]],'k-')"
   ]
  },
  {
   "cell_type": "code",
   "execution_count": null,
   "metadata": {
    "collapsed": false
   },
   "outputs": [],
   "source": [
    "GAIA=pd.read_csv(\"../RVGaia/DB/RVGaia.csv\")"
   ]
  },
  {
   "cell_type": "code",
   "execution_count": null,
   "metadata": {
    "collapsed": false
   },
   "outputs": [],
   "source": [
    "GAIA"
   ]
  },
  {
   "cell_type": "code",
   "execution_count": null,
   "metadata": {
    "collapsed": false
   },
   "outputs": [],
   "source": [
    "data=pd.read_csv('encounters.data')"
   ]
  },
  {
   "cell_type": "code",
   "execution_count": null,
   "metadata": {
    "collapsed": false
   },
   "outputs": [],
   "source": [
    "data"
   ]
  },
  {
   "cell_type": "code",
   "execution_count": null,
   "metadata": {
    "collapsed": false
   },
   "outputs": [],
   "source": [
    "past=data[data.tmin<0]\n",
    "if verbose:print(\"Encounters in the past:\",len(past))"
   ]
  },
  {
   "cell_type": "code",
   "execution_count": null,
   "metadata": {
    "collapsed": false
   },
   "outputs": [],
   "source": [
    "past[\"admin\"]=np.abs(past[\"dmin\"])"
   ]
  },
  {
   "cell_type": "code",
   "execution_count": null,
   "metadata": {
    "collapsed": false
   },
   "outputs": [],
   "source": [
    "past"
   ]
  },
  {
   "cell_type": "code",
   "execution_count": null,
   "metadata": {
    "collapsed": true
   },
   "outputs": [],
   "source": [
    "close=past.sort_values(by=['admin'])"
   ]
  },
  {
   "cell_type": "code",
   "execution_count": null,
   "metadata": {
    "collapsed": false
   },
   "outputs": [],
   "source": [
    "veryclose=close[close[\"admin\"]<1]"
   ]
  },
  {
   "cell_type": "code",
   "execution_count": null,
   "metadata": {
    "collapsed": false
   },
   "outputs": [],
   "source": [
    "if verbose:print(\"Really close encounters:\",len(veryclose))"
   ]
  },
  {
   "cell_type": "code",
   "execution_count": null,
   "metadata": {
    "collapsed": false
   },
   "outputs": [],
   "source": [
    "veryclose"
   ]
  },
  {
   "cell_type": "code",
   "execution_count": null,
   "metadata": {
    "collapsed": false
   },
   "outputs": [],
   "source": [
    "verylike=veryclose.sort_values(by=['vrel'])"
   ]
  },
  {
   "cell_type": "code",
   "execution_count": null,
   "metadata": {
    "collapsed": false
   },
   "outputs": [],
   "source": [
    "verylike"
   ]
  },
  {
   "cell_type": "code",
   "execution_count": null,
   "metadata": {
    "collapsed": false
   },
   "outputs": [],
   "source": [
    "verylike.iloc[1].values[1:7].tolist()"
   ]
  },
  {
   "cell_type": "code",
   "execution_count": null,
   "metadata": {
    "collapsed": false
   },
   "outputs": [],
   "source": [
    "GAIA.iloc[int(verylike.iloc[1][0])]"
   ]
  },
  {
   "cell_type": "code",
   "execution_count": null,
   "metadata": {
    "collapsed": false
   },
   "outputs": [],
   "source": [
    "#70136\n",
    "GAIA.iloc[70136]"
   ]
  },
  {
   "cell_type": "code",
   "execution_count": null,
   "metadata": {
    "collapsed": false
   },
   "outputs": [],
   "source": [
    "UL=1.496e11\n",
    "UM=2e30\n",
    "GCONST=6.67e-11\n",
    "UT=np.sqrt(UL**3/(GCONST*UM))\n",
    "if verbose:print(UL/UT/1e3)"
   ]
  },
  {
   "cell_type": "code",
   "execution_count": null,
   "metadata": {
    "collapsed": false
   },
   "outputs": [],
   "source": [
    "E=-GCONST*UM/(2*UL)\n",
    "if verbose:print(\"Total orbital energy:\",E)"
   ]
  },
  {
   "cell_type": "code",
   "execution_count": null,
   "metadata": {
    "collapsed": false
   },
   "outputs": [],
   "source": [
    "UJ=GCONST*(1e-3*UM)/(7e7)\n",
    "if verbose:print(np.sqrt(2*(E+UJ)))"
   ]
  },
  {
   "cell_type": "code",
   "execution_count": null,
   "metadata": {
    "collapsed": true
   },
   "outputs": [],
   "source": [
    "#Slingshot\n",
    "#Formulas in: http://www.mathpages.com/home/kmath114/kmath114.htm\n",
    "RAD=180/np.pi\n",
    "DEG=1/RAD\n",
    "U=1\n",
    "v1=1\n",
    "qs=np.linspace(0,90,100)*DEG\n",
    "v2s=(v1+2*U)*np.sqrt(1-4*U*v1*(1-np.cos(qs))/(v1+2*U)**2)\n",
    "vinfs=np.sqrt(v2s**2-2*U**2)"
   ]
  },
  {
   "cell_type": "code",
   "execution_count": null,
   "metadata": {
    "collapsed": false
   },
   "outputs": [],
   "source": [
    "fig=plt.figure()\n",
    "ax=fig.gca()\n",
    "ax.plot(qs,vinfs)"
   ]
  },
  {
   "cell_type": "markdown",
   "metadata": {},
   "source": [
    "## Semianalytic expulsion velocity distribution"
   ]
  },
  {
   "cell_type": "code",
   "execution_count": 9,
   "metadata": {
    "collapsed": false
   },
   "outputs": [],
   "source": [
    "#Constants\n",
    "AU=1.496e11 #m\n",
    "MSUN=1.98e30 #kg\n",
    "GCONST=6.67e-11 #m^3/(kg s^2)\n",
    "RAD=180/np.pi\n",
    "DEG=1/RAD\n",
    "\n",
    "#Units\n",
    "G=1.0\n",
    "UL=1*AU\n",
    "UM=1*MSUN\n",
    "UT=np.sqrt(G*UL**3/(GCONST*UM))\n",
    "UV=UL/UT\n",
    "if verbose:print(\"Time unit:\",UT)"
   ]
  },
  {
   "cell_type": "code",
   "execution_count": 10,
   "metadata": {
    "collapsed": false
   },
   "outputs": [],
   "source": [
    "#Star properties\n",
    "Ms=0.5\n",
    "mu=G*Ms\n",
    "if verbose:print(\"mu:\",mu)\n",
    "\n",
    "#Planet and star properties (canonic units)\n",
    "ap=2.9\n",
    "Mp=1e-3\n",
    "Rp=7e7/AU\n",
    "if verbose:print(\"Planetary radius:\",Rp)\n",
    "RH=ap*(Mp/(3*Ms))**(1./3)\n",
    "if verbose:print(\"Hill radius:\",RH)\n",
    "#Planetary orbital velocity\n",
    "vp=np.sqrt(mu/ap)\n",
    "if verbose:print(\"Orbital velocity:\",vp)\n",
    "#Escape velocity\n",
    "vesc=np.sqrt(2*mu/ap)\n",
    "if verbose:print(\"Escape velocity:\",vesc)"
   ]
  },
  {
   "cell_type": "code",
   "execution_count": null,
   "metadata": {
    "collapsed": false
   },
   "outputs": [],
   "source": [
    "#Example of slingshot\n",
    "\n",
    "#Initial velocity of particle respect to planet\n",
    "vinf1=0.3\n",
    "\n",
    "#Incoming angle\n",
    "theta=20*DEG\n",
    "\n",
    "#Velocity w.r.t. star\n",
    "vx=-vinf1*np.cos(theta)+u\n",
    "vy=+vinf1*np.sin(theta)\n",
    "vmag=np.sqrt(vx**+vy**2)\n",
    "if verbose:print(\"Particle velocity w.r.t. star:\",[vx,vy])\n",
    "if verbose:print(\"Magnitude of velocity:\",vmag)\n",
    "\n",
    "#Semimajor axis using vis-viva\n",
    "a=mu/vinf1\n",
    "if verbose:print(\"Semimajor axis:\",a)\n",
    "\n",
    "#Periastron\n",
    "q=0.1*RH\n",
    "\n",
    "#Corresponding eccentricity\n",
    "e=q/a+1\n",
    "if verbose:print(\"Eccentricity:\",e)\n",
    "\n",
    "#Hiperbolic angle\n",
    "phi=np.arccos(1/e)\n",
    "if verbose:print(\"Aperture angle:\",phi*RAD)\n",
    "\n",
    "#Output angle\n",
    "beta=2*phi-theta\n",
    "if verbose:print(\"Output angle:\",beta*RAD)"
   ]
  },
  {
   "cell_type": "code",
   "execution_count": null,
   "metadata": {
    "collapsed": false
   },
   "outputs": [],
   "source": [
    "#Output vinf\n",
    "vinf2x=vinf1*np.cos(beta)\n",
    "vinf2y=vinf1*np.sin(beta)\n",
    "if verbose:print(\"Output vector w.r.t. planet:\",[vinf2x,vinf2y])\n",
    "\n",
    "#Output velocity\n",
    "vx=vinf2x+u\n",
    "vy=vinf2y\n",
    "if verbose:print(\"Output velocity w.r.t. star:\",[vx,vy])\n",
    "\n",
    "#Magnitude of output velocity\n",
    "v2=vx**2+vy**2\n",
    "if verbose:print(\"Output velocity:\",np.sqrt(v2))\n",
    "\n",
    "#Infinite velocity for the system\n",
    "vinf2=v2**2-vesc**2\n",
    "if vinf2<0:\n",
    "    if verbose:print(\"El cuerpo sigue ligado\")\n",
    "else:\n",
    "    vinf=np.sqrt(vinf2)\n",
    "    if verbose:print(\"Velocity body after escaping solar sytem: %e km/s\"%(vinf*UV/1e3))"
   ]
  },
  {
   "cell_type": "markdown",
   "metadata": {},
   "source": [
    "## Monte Carlo escaping velocity distribution"
   ]
  },
  {
   "cell_type": "code",
   "execution_count": 11,
   "metadata": {
    "collapsed": false
   },
   "outputs": [],
   "source": [
    "#Routines\n",
    "rand=np.random.normal\n",
    "verbose=0\n",
    "\n",
    "#Basic theory: http://www.mathpages.com/home/kmath114/kmath114.htm"
   ]
  },
  {
   "cell_type": "code",
   "execution_count": 45,
   "metadata": {
    "collapsed": false
   },
   "outputs": [],
   "source": [
    "#Star properties\n",
    "Ms=1.0\n",
    "mu=G*Ms\n",
    "if verbose:print(\"mu:\",mu)\n",
    "\n",
    "#Planet and star properties (canonic units)\n",
    "ap=1\n",
    "Mp=1e-3\n",
    "Rp=7e7/AU\n",
    "if verbose:print(\"Planetary radius:\",Rp)\n",
    "RH=ap*(Mp/(3*Ms))**(1./3)\n",
    "if verbose:print(\"Hill radius:\",RH)\n",
    "#Planetary orbital velocity\n",
    "vp=np.sqrt(mu/ap)\n",
    "if verbose:print(\"Planetary orbital velocity:\",vp)\n",
    "#Escape velocity\n",
    "vesc=np.sqrt(2*mu/ap)\n",
    "if verbose:print(\"Planetary system velocity:\",vesc)"
   ]
  },
  {
   "cell_type": "code",
   "execution_count": 46,
   "metadata": {
    "collapsed": false
   },
   "outputs": [
    {
     "name": "stderr",
     "output_type": "stream",
     "text": [
      "/Users/jzuluaga/anaconda/lib/python3.6/site-packages/ipykernel/__main__.py:14: RuntimeWarning: invalid value encountered in sqrt\n"
     ]
    }
   ],
   "source": [
    "#np.random.seed(1)\n",
    "Npart=10000\n",
    "n=0\n",
    "vinfs=[]\n",
    "while n<Npart:\n",
    "\n",
    "    if verbose:print(\"Test particle:\",n)\n",
    "    #Basic elements\n",
    "    ab=rand(ap,0.5)\n",
    "    eb=rand(0.5,0.5)\n",
    "    if eb<0 or eb>1:continue\n",
    "    pb=ab*(1-eb**2)\n",
    "    ib=rand(2)\n",
    "    hop=np.sqrt(mu/pb)\n",
    "    if verbose:print(\"\\tOrbital elements (a,e,p,h/p): \",ab,eb,pb,hop)\n",
    "\n",
    "    #Longitude of the ascending node\n",
    "    Ob=0.0\n",
    "    if np.random.rand()>0.5:Ob=180.0\n",
    "    if verbose:print(\"\\tLongitude of the ascending note (O):\",Ob)\n",
    "    \n",
    "    #Argument of the periastron\n",
    "    if Ob==0:\n",
    "        coswb=(pb-ap)/eb\n",
    "        if np.abs(coswb)>1:continue\n",
    "        wb=np.arccos(coswb)*RAD\n",
    "        wpf=0.0\n",
    "    else:\n",
    "        coswb=(ap-pb)/eb\n",
    "        if np.abs(coswb)>1:continue\n",
    "        wb=np.arccos(coswb)*RAD\n",
    "        wpf=180.0\n",
    "\n",
    "    if verbose:print(\"\\tPeriastron argument (w):\",wb)\n",
    "    if verbose:print(\"\\tw+f:\",wpf)\n",
    "\n",
    "    #Magnitude of asteroid velocity\n",
    "    v=np.sqrt(2*mu/ap-mu/ab)\n",
    "    if verbose:print(\"\\tMagnitude of asteroid velocity w.r.t. Sun:\",v)\n",
    "    \n",
    "    #Components of asteroid velocity\n",
    "    #xdot=-hop*eb*np.cos(Ob*DEG)*(np.sin(wpf*DEG)+eb*np.sin(wb*DEG))\n",
    "    xdot=-hop*eb*np.cos(Ob*DEG)*np.sin(wb*DEG)    \n",
    "    ydot=+hop*np.cos(Ob*DEG)*np.cos(ib*DEG)*(np.cos(wpf*DEG)+eb*np.cos(wb*DEG))\n",
    "    zdot=+hop*np.sin(ib*DEG)*(np.cos(wpf*DEG)+eb*np.cos(wb*DEG))\n",
    "    \n",
    "    #Magnitude\n",
    "    if verbose:print(\"\\tHeliocentric velocity :\",xdot,ydot,zdot,\" (%lf)\"%np.sqrt(xdot**2+ydot**2+zdot**2))\n",
    "    #if verbose:print(\"Magnitude of asteroid velocity w.r.t. Sun:\",np.sqrt(xdot**2+ydot**2+zdot**2))\n",
    "    \n",
    "    #Relative velocity\n",
    "    xdotrel=xdot-0\n",
    "    ydotrel=ydot-vp\n",
    "    zdotrel=zdot-0\n",
    "    if verbose:print(\"\\tRelative velocity :\",xdotrel,ydotrel,zdotrel)\n",
    "    vinf2=xdotrel**2+ydotrel**2+zdotrel**2\n",
    "    vinf=np.sqrt(vinf2)\n",
    "    rhorel=np.sqrt(xdotrel**2+ydotrel**2+zdotrel**2)\n",
    "    if verbose:print(\"\\tRelative velocity:\",vinf)\n",
    "\n",
    "    #Incident angle\n",
    "    theta=np.abs(np.arccos((-ydotrel*vp)/(vinf*vp)))*RAD\n",
    "    if verbose:print(\"\\tIncident angle (cos^-1 (vb.vp)/(vp vp)):\",theta)\n",
    "    \n",
    "    #Impact parameter\n",
    "    q=(0.5*RH-Rp)*np.random.rand()+Rp\n",
    "    #q=2.5*Rp\n",
    "    if verbose:print(\"\\tImpact parameter:\",q)\n",
    "    \n",
    "    #Semimajor axis and eccentricity\n",
    "    ainf=1/vinf\n",
    "    einf=q/ainf+1\n",
    "    phi=np.arccos(1/einf)*RAD\n",
    "    if verbose:print(\"\\tAsymptotic a,e,phi:\",ainf,einf,phi)\n",
    "    \n",
    "    #Output angle\n",
    "    beta=2*phi-theta\n",
    "    if verbose:print(\"\\tOutput angle:\",beta)\n",
    "    \n",
    "    #Output vinf\n",
    "    vinf2y=vinf*np.cos(beta)\n",
    "    vinf2x=vinf*np.sin(beta)\n",
    "    if verbose:print(\"\\tOutput vector w.r.t. planet:\",[vinf2x,vinf2y])\n",
    "\n",
    "    #Output velocity\n",
    "    vy=vinf2y+vp\n",
    "    vx=vinf2x\n",
    "    if verbose:print(\"\\tOutput velocity w.r.t. star:\",[vx,vy])\n",
    "\n",
    "    #Magnitude of output velocity\n",
    "    vout=np.sqrt(vx**2+vy**2)\n",
    "    if verbose:print(\"\\tOutput velocity:\",vout)\n",
    "\n",
    "    #Infinite velocity for the system\n",
    "    vinf2=vout**2-vesc**2\n",
    "    if vinf2<0:\n",
    "        if verbose:print(\"\\tEl cuerpo sigue ligado\")\n",
    "        continue\n",
    "    else:\n",
    "        vinf=np.sqrt(vinf2)\n",
    "        vinfs+=[vinf*UV/1e3]\n",
    "        if verbose:print(\"\\tVelocity body after escaping solar sytem: %e km/s\"%(vinf*UV/1e3))\n",
    "\n",
    "    if verbose:print\n",
    "    n+=1\n",
    "vinfs=np.array(vinfs)"
   ]
  },
  {
   "cell_type": "code",
   "execution_count": 47,
   "metadata": {
    "collapsed": false
   },
   "outputs": [
    {
     "data": {
      "application/javascript": [
       "/* Put everything inside the global mpl namespace */\n",
       "window.mpl = {};\n",
       "\n",
       "\n",
       "mpl.get_websocket_type = function() {\n",
       "    if (typeof(WebSocket) !== 'undefined') {\n",
       "        return WebSocket;\n",
       "    } else if (typeof(MozWebSocket) !== 'undefined') {\n",
       "        return MozWebSocket;\n",
       "    } else {\n",
       "        alert('Your browser does not have WebSocket support.' +\n",
       "              'Please try Chrome, Safari or Firefox ≥ 6. ' +\n",
       "              'Firefox 4 and 5 are also supported but you ' +\n",
       "              'have to enable WebSockets in about:config.');\n",
       "    };\n",
       "}\n",
       "\n",
       "mpl.figure = function(figure_id, websocket, ondownload, parent_element) {\n",
       "    this.id = figure_id;\n",
       "\n",
       "    this.ws = websocket;\n",
       "\n",
       "    this.supports_binary = (this.ws.binaryType != undefined);\n",
       "\n",
       "    if (!this.supports_binary) {\n",
       "        var warnings = document.getElementById(\"mpl-warnings\");\n",
       "        if (warnings) {\n",
       "            warnings.style.display = 'block';\n",
       "            warnings.textContent = (\n",
       "                \"This browser does not support binary websocket messages. \" +\n",
       "                    \"Performance may be slow.\");\n",
       "        }\n",
       "    }\n",
       "\n",
       "    this.imageObj = new Image();\n",
       "\n",
       "    this.context = undefined;\n",
       "    this.message = undefined;\n",
       "    this.canvas = undefined;\n",
       "    this.rubberband_canvas = undefined;\n",
       "    this.rubberband_context = undefined;\n",
       "    this.format_dropdown = undefined;\n",
       "\n",
       "    this.image_mode = 'full';\n",
       "\n",
       "    this.root = $('<div/>');\n",
       "    this._root_extra_style(this.root)\n",
       "    this.root.attr('style', 'display: inline-block');\n",
       "\n",
       "    $(parent_element).append(this.root);\n",
       "\n",
       "    this._init_header(this);\n",
       "    this._init_canvas(this);\n",
       "    this._init_toolbar(this);\n",
       "\n",
       "    var fig = this;\n",
       "\n",
       "    this.waiting = false;\n",
       "\n",
       "    this.ws.onopen =  function () {\n",
       "            fig.send_message(\"supports_binary\", {value: fig.supports_binary});\n",
       "            fig.send_message(\"send_image_mode\", {});\n",
       "            if (mpl.ratio != 1) {\n",
       "                fig.send_message(\"set_dpi_ratio\", {'dpi_ratio': mpl.ratio});\n",
       "            }\n",
       "            fig.send_message(\"refresh\", {});\n",
       "        }\n",
       "\n",
       "    this.imageObj.onload = function() {\n",
       "            if (fig.image_mode == 'full') {\n",
       "                // Full images could contain transparency (where diff images\n",
       "                // almost always do), so we need to clear the canvas so that\n",
       "                // there is no ghosting.\n",
       "                fig.context.clearRect(0, 0, fig.canvas.width, fig.canvas.height);\n",
       "            }\n",
       "            fig.context.drawImage(fig.imageObj, 0, 0);\n",
       "        };\n",
       "\n",
       "    this.imageObj.onunload = function() {\n",
       "        this.ws.close();\n",
       "    }\n",
       "\n",
       "    this.ws.onmessage = this._make_on_message_function(this);\n",
       "\n",
       "    this.ondownload = ondownload;\n",
       "}\n",
       "\n",
       "mpl.figure.prototype._init_header = function() {\n",
       "    var titlebar = $(\n",
       "        '<div class=\"ui-dialog-titlebar ui-widget-header ui-corner-all ' +\n",
       "        'ui-helper-clearfix\"/>');\n",
       "    var titletext = $(\n",
       "        '<div class=\"ui-dialog-title\" style=\"width: 100%; ' +\n",
       "        'text-align: center; padding: 3px;\"/>');\n",
       "    titlebar.append(titletext)\n",
       "    this.root.append(titlebar);\n",
       "    this.header = titletext[0];\n",
       "}\n",
       "\n",
       "\n",
       "\n",
       "mpl.figure.prototype._canvas_extra_style = function(canvas_div) {\n",
       "\n",
       "}\n",
       "\n",
       "\n",
       "mpl.figure.prototype._root_extra_style = function(canvas_div) {\n",
       "\n",
       "}\n",
       "\n",
       "mpl.figure.prototype._init_canvas = function() {\n",
       "    var fig = this;\n",
       "\n",
       "    var canvas_div = $('<div/>');\n",
       "\n",
       "    canvas_div.attr('style', 'position: relative; clear: both; outline: 0');\n",
       "\n",
       "    function canvas_keyboard_event(event) {\n",
       "        return fig.key_event(event, event['data']);\n",
       "    }\n",
       "\n",
       "    canvas_div.keydown('key_press', canvas_keyboard_event);\n",
       "    canvas_div.keyup('key_release', canvas_keyboard_event);\n",
       "    this.canvas_div = canvas_div\n",
       "    this._canvas_extra_style(canvas_div)\n",
       "    this.root.append(canvas_div);\n",
       "\n",
       "    var canvas = $('<canvas/>');\n",
       "    canvas.addClass('mpl-canvas');\n",
       "    canvas.attr('style', \"left: 0; top: 0; z-index: 0; outline: 0\")\n",
       "\n",
       "    this.canvas = canvas[0];\n",
       "    this.context = canvas[0].getContext(\"2d\");\n",
       "\n",
       "    var backingStore = this.context.backingStorePixelRatio ||\n",
       "\tthis.context.webkitBackingStorePixelRatio ||\n",
       "\tthis.context.mozBackingStorePixelRatio ||\n",
       "\tthis.context.msBackingStorePixelRatio ||\n",
       "\tthis.context.oBackingStorePixelRatio ||\n",
       "\tthis.context.backingStorePixelRatio || 1;\n",
       "\n",
       "    mpl.ratio = (window.devicePixelRatio || 1) / backingStore;\n",
       "\n",
       "    var rubberband = $('<canvas/>');\n",
       "    rubberband.attr('style', \"position: absolute; left: 0; top: 0; z-index: 1;\")\n",
       "\n",
       "    var pass_mouse_events = true;\n",
       "\n",
       "    canvas_div.resizable({\n",
       "        start: function(event, ui) {\n",
       "            pass_mouse_events = false;\n",
       "        },\n",
       "        resize: function(event, ui) {\n",
       "            fig.request_resize(ui.size.width, ui.size.height);\n",
       "        },\n",
       "        stop: function(event, ui) {\n",
       "            pass_mouse_events = true;\n",
       "            fig.request_resize(ui.size.width, ui.size.height);\n",
       "        },\n",
       "    });\n",
       "\n",
       "    function mouse_event_fn(event) {\n",
       "        if (pass_mouse_events)\n",
       "            return fig.mouse_event(event, event['data']);\n",
       "    }\n",
       "\n",
       "    rubberband.mousedown('button_press', mouse_event_fn);\n",
       "    rubberband.mouseup('button_release', mouse_event_fn);\n",
       "    // Throttle sequential mouse events to 1 every 20ms.\n",
       "    rubberband.mousemove('motion_notify', mouse_event_fn);\n",
       "\n",
       "    rubberband.mouseenter('figure_enter', mouse_event_fn);\n",
       "    rubberband.mouseleave('figure_leave', mouse_event_fn);\n",
       "\n",
       "    canvas_div.on(\"wheel\", function (event) {\n",
       "        event = event.originalEvent;\n",
       "        event['data'] = 'scroll'\n",
       "        if (event.deltaY < 0) {\n",
       "            event.step = 1;\n",
       "        } else {\n",
       "            event.step = -1;\n",
       "        }\n",
       "        mouse_event_fn(event);\n",
       "    });\n",
       "\n",
       "    canvas_div.append(canvas);\n",
       "    canvas_div.append(rubberband);\n",
       "\n",
       "    this.rubberband = rubberband;\n",
       "    this.rubberband_canvas = rubberband[0];\n",
       "    this.rubberband_context = rubberband[0].getContext(\"2d\");\n",
       "    this.rubberband_context.strokeStyle = \"#000000\";\n",
       "\n",
       "    this._resize_canvas = function(width, height) {\n",
       "        // Keep the size of the canvas, canvas container, and rubber band\n",
       "        // canvas in synch.\n",
       "        canvas_div.css('width', width)\n",
       "        canvas_div.css('height', height)\n",
       "\n",
       "        canvas.attr('width', width * mpl.ratio);\n",
       "        canvas.attr('height', height * mpl.ratio);\n",
       "        canvas.attr('style', 'width: ' + width + 'px; height: ' + height + 'px;');\n",
       "\n",
       "        rubberband.attr('width', width);\n",
       "        rubberband.attr('height', height);\n",
       "    }\n",
       "\n",
       "    // Set the figure to an initial 600x600px, this will subsequently be updated\n",
       "    // upon first draw.\n",
       "    this._resize_canvas(600, 600);\n",
       "\n",
       "    // Disable right mouse context menu.\n",
       "    $(this.rubberband_canvas).bind(\"contextmenu\",function(e){\n",
       "        return false;\n",
       "    });\n",
       "\n",
       "    function set_focus () {\n",
       "        canvas.focus();\n",
       "        canvas_div.focus();\n",
       "    }\n",
       "\n",
       "    window.setTimeout(set_focus, 100);\n",
       "}\n",
       "\n",
       "mpl.figure.prototype._init_toolbar = function() {\n",
       "    var fig = this;\n",
       "\n",
       "    var nav_element = $('<div/>')\n",
       "    nav_element.attr('style', 'width: 100%');\n",
       "    this.root.append(nav_element);\n",
       "\n",
       "    // Define a callback function for later on.\n",
       "    function toolbar_event(event) {\n",
       "        return fig.toolbar_button_onclick(event['data']);\n",
       "    }\n",
       "    function toolbar_mouse_event(event) {\n",
       "        return fig.toolbar_button_onmouseover(event['data']);\n",
       "    }\n",
       "\n",
       "    for(var toolbar_ind in mpl.toolbar_items) {\n",
       "        var name = mpl.toolbar_items[toolbar_ind][0];\n",
       "        var tooltip = mpl.toolbar_items[toolbar_ind][1];\n",
       "        var image = mpl.toolbar_items[toolbar_ind][2];\n",
       "        var method_name = mpl.toolbar_items[toolbar_ind][3];\n",
       "\n",
       "        if (!name) {\n",
       "            // put a spacer in here.\n",
       "            continue;\n",
       "        }\n",
       "        var button = $('<button/>');\n",
       "        button.addClass('ui-button ui-widget ui-state-default ui-corner-all ' +\n",
       "                        'ui-button-icon-only');\n",
       "        button.attr('role', 'button');\n",
       "        button.attr('aria-disabled', 'false');\n",
       "        button.click(method_name, toolbar_event);\n",
       "        button.mouseover(tooltip, toolbar_mouse_event);\n",
       "\n",
       "        var icon_img = $('<span/>');\n",
       "        icon_img.addClass('ui-button-icon-primary ui-icon');\n",
       "        icon_img.addClass(image);\n",
       "        icon_img.addClass('ui-corner-all');\n",
       "\n",
       "        var tooltip_span = $('<span/>');\n",
       "        tooltip_span.addClass('ui-button-text');\n",
       "        tooltip_span.html(tooltip);\n",
       "\n",
       "        button.append(icon_img);\n",
       "        button.append(tooltip_span);\n",
       "\n",
       "        nav_element.append(button);\n",
       "    }\n",
       "\n",
       "    var fmt_picker_span = $('<span/>');\n",
       "\n",
       "    var fmt_picker = $('<select/>');\n",
       "    fmt_picker.addClass('mpl-toolbar-option ui-widget ui-widget-content');\n",
       "    fmt_picker_span.append(fmt_picker);\n",
       "    nav_element.append(fmt_picker_span);\n",
       "    this.format_dropdown = fmt_picker[0];\n",
       "\n",
       "    for (var ind in mpl.extensions) {\n",
       "        var fmt = mpl.extensions[ind];\n",
       "        var option = $(\n",
       "            '<option/>', {selected: fmt === mpl.default_extension}).html(fmt);\n",
       "        fmt_picker.append(option)\n",
       "    }\n",
       "\n",
       "    // Add hover states to the ui-buttons\n",
       "    $( \".ui-button\" ).hover(\n",
       "        function() { $(this).addClass(\"ui-state-hover\");},\n",
       "        function() { $(this).removeClass(\"ui-state-hover\");}\n",
       "    );\n",
       "\n",
       "    var status_bar = $('<span class=\"mpl-message\"/>');\n",
       "    nav_element.append(status_bar);\n",
       "    this.message = status_bar[0];\n",
       "}\n",
       "\n",
       "mpl.figure.prototype.request_resize = function(x_pixels, y_pixels) {\n",
       "    // Request matplotlib to resize the figure. Matplotlib will then trigger a resize in the client,\n",
       "    // which will in turn request a refresh of the image.\n",
       "    this.send_message('resize', {'width': x_pixels, 'height': y_pixels});\n",
       "}\n",
       "\n",
       "mpl.figure.prototype.send_message = function(type, properties) {\n",
       "    properties['type'] = type;\n",
       "    properties['figure_id'] = this.id;\n",
       "    this.ws.send(JSON.stringify(properties));\n",
       "}\n",
       "\n",
       "mpl.figure.prototype.send_draw_message = function() {\n",
       "    if (!this.waiting) {\n",
       "        this.waiting = true;\n",
       "        this.ws.send(JSON.stringify({type: \"draw\", figure_id: this.id}));\n",
       "    }\n",
       "}\n",
       "\n",
       "\n",
       "mpl.figure.prototype.handle_save = function(fig, msg) {\n",
       "    var format_dropdown = fig.format_dropdown;\n",
       "    var format = format_dropdown.options[format_dropdown.selectedIndex].value;\n",
       "    fig.ondownload(fig, format);\n",
       "}\n",
       "\n",
       "\n",
       "mpl.figure.prototype.handle_resize = function(fig, msg) {\n",
       "    var size = msg['size'];\n",
       "    if (size[0] != fig.canvas.width || size[1] != fig.canvas.height) {\n",
       "        fig._resize_canvas(size[0], size[1]);\n",
       "        fig.send_message(\"refresh\", {});\n",
       "    };\n",
       "}\n",
       "\n",
       "mpl.figure.prototype.handle_rubberband = function(fig, msg) {\n",
       "    var x0 = msg['x0'] / mpl.ratio;\n",
       "    var y0 = (fig.canvas.height - msg['y0']) / mpl.ratio;\n",
       "    var x1 = msg['x1'] / mpl.ratio;\n",
       "    var y1 = (fig.canvas.height - msg['y1']) / mpl.ratio;\n",
       "    x0 = Math.floor(x0) + 0.5;\n",
       "    y0 = Math.floor(y0) + 0.5;\n",
       "    x1 = Math.floor(x1) + 0.5;\n",
       "    y1 = Math.floor(y1) + 0.5;\n",
       "    var min_x = Math.min(x0, x1);\n",
       "    var min_y = Math.min(y0, y1);\n",
       "    var width = Math.abs(x1 - x0);\n",
       "    var height = Math.abs(y1 - y0);\n",
       "\n",
       "    fig.rubberband_context.clearRect(\n",
       "        0, 0, fig.canvas.width, fig.canvas.height);\n",
       "\n",
       "    fig.rubberband_context.strokeRect(min_x, min_y, width, height);\n",
       "}\n",
       "\n",
       "mpl.figure.prototype.handle_figure_label = function(fig, msg) {\n",
       "    // Updates the figure title.\n",
       "    fig.header.textContent = msg['label'];\n",
       "}\n",
       "\n",
       "mpl.figure.prototype.handle_cursor = function(fig, msg) {\n",
       "    var cursor = msg['cursor'];\n",
       "    switch(cursor)\n",
       "    {\n",
       "    case 0:\n",
       "        cursor = 'pointer';\n",
       "        break;\n",
       "    case 1:\n",
       "        cursor = 'default';\n",
       "        break;\n",
       "    case 2:\n",
       "        cursor = 'crosshair';\n",
       "        break;\n",
       "    case 3:\n",
       "        cursor = 'move';\n",
       "        break;\n",
       "    }\n",
       "    fig.rubberband_canvas.style.cursor = cursor;\n",
       "}\n",
       "\n",
       "mpl.figure.prototype.handle_message = function(fig, msg) {\n",
       "    fig.message.textContent = msg['message'];\n",
       "}\n",
       "\n",
       "mpl.figure.prototype.handle_draw = function(fig, msg) {\n",
       "    // Request the server to send over a new figure.\n",
       "    fig.send_draw_message();\n",
       "}\n",
       "\n",
       "mpl.figure.prototype.handle_image_mode = function(fig, msg) {\n",
       "    fig.image_mode = msg['mode'];\n",
       "}\n",
       "\n",
       "mpl.figure.prototype.updated_canvas_event = function() {\n",
       "    // Called whenever the canvas gets updated.\n",
       "    this.send_message(\"ack\", {});\n",
       "}\n",
       "\n",
       "// A function to construct a web socket function for onmessage handling.\n",
       "// Called in the figure constructor.\n",
       "mpl.figure.prototype._make_on_message_function = function(fig) {\n",
       "    return function socket_on_message(evt) {\n",
       "        if (evt.data instanceof Blob) {\n",
       "            /* FIXME: We get \"Resource interpreted as Image but\n",
       "             * transferred with MIME type text/plain:\" errors on\n",
       "             * Chrome.  But how to set the MIME type?  It doesn't seem\n",
       "             * to be part of the websocket stream */\n",
       "            evt.data.type = \"image/png\";\n",
       "\n",
       "            /* Free the memory for the previous frames */\n",
       "            if (fig.imageObj.src) {\n",
       "                (window.URL || window.webkitURL).revokeObjectURL(\n",
       "                    fig.imageObj.src);\n",
       "            }\n",
       "\n",
       "            fig.imageObj.src = (window.URL || window.webkitURL).createObjectURL(\n",
       "                evt.data);\n",
       "            fig.updated_canvas_event();\n",
       "            fig.waiting = false;\n",
       "            return;\n",
       "        }\n",
       "        else if (typeof evt.data === 'string' && evt.data.slice(0, 21) == \"data:image/png;base64\") {\n",
       "            fig.imageObj.src = evt.data;\n",
       "            fig.updated_canvas_event();\n",
       "            fig.waiting = false;\n",
       "            return;\n",
       "        }\n",
       "\n",
       "        var msg = JSON.parse(evt.data);\n",
       "        var msg_type = msg['type'];\n",
       "\n",
       "        // Call the  \"handle_{type}\" callback, which takes\n",
       "        // the figure and JSON message as its only arguments.\n",
       "        try {\n",
       "            var callback = fig[\"handle_\" + msg_type];\n",
       "        } catch (e) {\n",
       "            console.log(\"No handler for the '\" + msg_type + \"' message type: \", msg);\n",
       "            return;\n",
       "        }\n",
       "\n",
       "        if (callback) {\n",
       "            try {\n",
       "                // console.log(\"Handling '\" + msg_type + \"' message: \", msg);\n",
       "                callback(fig, msg);\n",
       "            } catch (e) {\n",
       "                console.log(\"Exception inside the 'handler_\" + msg_type + \"' callback:\", e, e.stack, msg);\n",
       "            }\n",
       "        }\n",
       "    };\n",
       "}\n",
       "\n",
       "// from http://stackoverflow.com/questions/1114465/getting-mouse-location-in-canvas\n",
       "mpl.findpos = function(e) {\n",
       "    //this section is from http://www.quirksmode.org/js/events_properties.html\n",
       "    var targ;\n",
       "    if (!e)\n",
       "        e = window.event;\n",
       "    if (e.target)\n",
       "        targ = e.target;\n",
       "    else if (e.srcElement)\n",
       "        targ = e.srcElement;\n",
       "    if (targ.nodeType == 3) // defeat Safari bug\n",
       "        targ = targ.parentNode;\n",
       "\n",
       "    // jQuery normalizes the pageX and pageY\n",
       "    // pageX,Y are the mouse positions relative to the document\n",
       "    // offset() returns the position of the element relative to the document\n",
       "    var x = e.pageX - $(targ).offset().left;\n",
       "    var y = e.pageY - $(targ).offset().top;\n",
       "\n",
       "    return {\"x\": x, \"y\": y};\n",
       "};\n",
       "\n",
       "/*\n",
       " * return a copy of an object with only non-object keys\n",
       " * we need this to avoid circular references\n",
       " * http://stackoverflow.com/a/24161582/3208463\n",
       " */\n",
       "function simpleKeys (original) {\n",
       "  return Object.keys(original).reduce(function (obj, key) {\n",
       "    if (typeof original[key] !== 'object')\n",
       "        obj[key] = original[key]\n",
       "    return obj;\n",
       "  }, {});\n",
       "}\n",
       "\n",
       "mpl.figure.prototype.mouse_event = function(event, name) {\n",
       "    var canvas_pos = mpl.findpos(event)\n",
       "\n",
       "    if (name === 'button_press')\n",
       "    {\n",
       "        this.canvas.focus();\n",
       "        this.canvas_div.focus();\n",
       "    }\n",
       "\n",
       "    var x = canvas_pos.x * mpl.ratio;\n",
       "    var y = canvas_pos.y * mpl.ratio;\n",
       "\n",
       "    this.send_message(name, {x: x, y: y, button: event.button,\n",
       "                             step: event.step,\n",
       "                             guiEvent: simpleKeys(event)});\n",
       "\n",
       "    /* This prevents the web browser from automatically changing to\n",
       "     * the text insertion cursor when the button is pressed.  We want\n",
       "     * to control all of the cursor setting manually through the\n",
       "     * 'cursor' event from matplotlib */\n",
       "    event.preventDefault();\n",
       "    return false;\n",
       "}\n",
       "\n",
       "mpl.figure.prototype._key_event_extra = function(event, name) {\n",
       "    // Handle any extra behaviour associated with a key event\n",
       "}\n",
       "\n",
       "mpl.figure.prototype.key_event = function(event, name) {\n",
       "\n",
       "    // Prevent repeat events\n",
       "    if (name == 'key_press')\n",
       "    {\n",
       "        if (event.which === this._key)\n",
       "            return;\n",
       "        else\n",
       "            this._key = event.which;\n",
       "    }\n",
       "    if (name == 'key_release')\n",
       "        this._key = null;\n",
       "\n",
       "    var value = '';\n",
       "    if (event.ctrlKey && event.which != 17)\n",
       "        value += \"ctrl+\";\n",
       "    if (event.altKey && event.which != 18)\n",
       "        value += \"alt+\";\n",
       "    if (event.shiftKey && event.which != 16)\n",
       "        value += \"shift+\";\n",
       "\n",
       "    value += 'k';\n",
       "    value += event.which.toString();\n",
       "\n",
       "    this._key_event_extra(event, name);\n",
       "\n",
       "    this.send_message(name, {key: value,\n",
       "                             guiEvent: simpleKeys(event)});\n",
       "    return false;\n",
       "}\n",
       "\n",
       "mpl.figure.prototype.toolbar_button_onclick = function(name) {\n",
       "    if (name == 'download') {\n",
       "        this.handle_save(this, null);\n",
       "    } else {\n",
       "        this.send_message(\"toolbar_button\", {name: name});\n",
       "    }\n",
       "};\n",
       "\n",
       "mpl.figure.prototype.toolbar_button_onmouseover = function(tooltip) {\n",
       "    this.message.textContent = tooltip;\n",
       "};\n",
       "mpl.toolbar_items = [[\"Home\", \"Reset original view\", \"fa fa-home icon-home\", \"home\"], [\"Back\", \"Back to  previous view\", \"fa fa-arrow-left icon-arrow-left\", \"back\"], [\"Forward\", \"Forward to next view\", \"fa fa-arrow-right icon-arrow-right\", \"forward\"], [\"\", \"\", \"\", \"\"], [\"Pan\", \"Pan axes with left mouse, zoom with right\", \"fa fa-arrows icon-move\", \"pan\"], [\"Zoom\", \"Zoom to rectangle\", \"fa fa-square-o icon-check-empty\", \"zoom\"], [\"\", \"\", \"\", \"\"], [\"Download\", \"Download plot\", \"fa fa-floppy-o icon-save\", \"download\"]];\n",
       "\n",
       "mpl.extensions = [\"eps\", \"jpeg\", \"pdf\", \"png\", \"ps\", \"raw\", \"svg\", \"tif\"];\n",
       "\n",
       "mpl.default_extension = \"png\";var comm_websocket_adapter = function(comm) {\n",
       "    // Create a \"websocket\"-like object which calls the given IPython comm\n",
       "    // object with the appropriate methods. Currently this is a non binary\n",
       "    // socket, so there is still some room for performance tuning.\n",
       "    var ws = {};\n",
       "\n",
       "    ws.close = function() {\n",
       "        comm.close()\n",
       "    };\n",
       "    ws.send = function(m) {\n",
       "        //console.log('sending', m);\n",
       "        comm.send(m);\n",
       "    };\n",
       "    // Register the callback with on_msg.\n",
       "    comm.on_msg(function(msg) {\n",
       "        //console.log('receiving', msg['content']['data'], msg);\n",
       "        // Pass the mpl event to the overriden (by mpl) onmessage function.\n",
       "        ws.onmessage(msg['content']['data'])\n",
       "    });\n",
       "    return ws;\n",
       "}\n",
       "\n",
       "mpl.mpl_figure_comm = function(comm, msg) {\n",
       "    // This is the function which gets called when the mpl process\n",
       "    // starts-up an IPython Comm through the \"matplotlib\" channel.\n",
       "\n",
       "    var id = msg.content.data.id;\n",
       "    // Get hold of the div created by the display call when the Comm\n",
       "    // socket was opened in Python.\n",
       "    var element = $(\"#\" + id);\n",
       "    var ws_proxy = comm_websocket_adapter(comm)\n",
       "\n",
       "    function ondownload(figure, format) {\n",
       "        window.open(figure.imageObj.src);\n",
       "    }\n",
       "\n",
       "    var fig = new mpl.figure(id, ws_proxy,\n",
       "                           ondownload,\n",
       "                           element.get(0));\n",
       "\n",
       "    // Call onopen now - mpl needs it, as it is assuming we've passed it a real\n",
       "    // web socket which is closed, not our websocket->open comm proxy.\n",
       "    ws_proxy.onopen();\n",
       "\n",
       "    fig.parent_element = element.get(0);\n",
       "    fig.cell_info = mpl.find_output_cell(\"<div id='\" + id + \"'></div>\");\n",
       "    if (!fig.cell_info) {\n",
       "        console.error(\"Failed to find cell for figure\", id, fig);\n",
       "        return;\n",
       "    }\n",
       "\n",
       "    var output_index = fig.cell_info[2]\n",
       "    var cell = fig.cell_info[0];\n",
       "\n",
       "};\n",
       "\n",
       "mpl.figure.prototype.handle_close = function(fig, msg) {\n",
       "    var width = fig.canvas.width/mpl.ratio\n",
       "    fig.root.unbind('remove')\n",
       "\n",
       "    // Update the output cell to use the data from the current canvas.\n",
       "    fig.push_to_output();\n",
       "    var dataURL = fig.canvas.toDataURL();\n",
       "    // Re-enable the keyboard manager in IPython - without this line, in FF,\n",
       "    // the notebook keyboard shortcuts fail.\n",
       "    IPython.keyboard_manager.enable()\n",
       "    $(fig.parent_element).html('<img src=\"' + dataURL + '\" width=\"' + width + '\">');\n",
       "    fig.close_ws(fig, msg);\n",
       "}\n",
       "\n",
       "mpl.figure.prototype.close_ws = function(fig, msg){\n",
       "    fig.send_message('closing', msg);\n",
       "    // fig.ws.close()\n",
       "}\n",
       "\n",
       "mpl.figure.prototype.push_to_output = function(remove_interactive) {\n",
       "    // Turn the data on the canvas into data in the output cell.\n",
       "    var width = this.canvas.width/mpl.ratio\n",
       "    var dataURL = this.canvas.toDataURL();\n",
       "    this.cell_info[1]['text/html'] = '<img src=\"' + dataURL + '\" width=\"' + width + '\">';\n",
       "}\n",
       "\n",
       "mpl.figure.prototype.updated_canvas_event = function() {\n",
       "    // Tell IPython that the notebook contents must change.\n",
       "    IPython.notebook.set_dirty(true);\n",
       "    this.send_message(\"ack\", {});\n",
       "    var fig = this;\n",
       "    // Wait a second, then push the new image to the DOM so\n",
       "    // that it is saved nicely (might be nice to debounce this).\n",
       "    setTimeout(function () { fig.push_to_output() }, 1000);\n",
       "}\n",
       "\n",
       "mpl.figure.prototype._init_toolbar = function() {\n",
       "    var fig = this;\n",
       "\n",
       "    var nav_element = $('<div/>')\n",
       "    nav_element.attr('style', 'width: 100%');\n",
       "    this.root.append(nav_element);\n",
       "\n",
       "    // Define a callback function for later on.\n",
       "    function toolbar_event(event) {\n",
       "        return fig.toolbar_button_onclick(event['data']);\n",
       "    }\n",
       "    function toolbar_mouse_event(event) {\n",
       "        return fig.toolbar_button_onmouseover(event['data']);\n",
       "    }\n",
       "\n",
       "    for(var toolbar_ind in mpl.toolbar_items){\n",
       "        var name = mpl.toolbar_items[toolbar_ind][0];\n",
       "        var tooltip = mpl.toolbar_items[toolbar_ind][1];\n",
       "        var image = mpl.toolbar_items[toolbar_ind][2];\n",
       "        var method_name = mpl.toolbar_items[toolbar_ind][3];\n",
       "\n",
       "        if (!name) { continue; };\n",
       "\n",
       "        var button = $('<button class=\"btn btn-default\" href=\"#\" title=\"' + name + '\"><i class=\"fa ' + image + ' fa-lg\"></i></button>');\n",
       "        button.click(method_name, toolbar_event);\n",
       "        button.mouseover(tooltip, toolbar_mouse_event);\n",
       "        nav_element.append(button);\n",
       "    }\n",
       "\n",
       "    // Add the status bar.\n",
       "    var status_bar = $('<span class=\"mpl-message\" style=\"text-align:right; float: right;\"/>');\n",
       "    nav_element.append(status_bar);\n",
       "    this.message = status_bar[0];\n",
       "\n",
       "    // Add the close button to the window.\n",
       "    var buttongrp = $('<div class=\"btn-group inline pull-right\"></div>');\n",
       "    var button = $('<button class=\"btn btn-mini btn-primary\" href=\"#\" title=\"Stop Interaction\"><i class=\"fa fa-power-off icon-remove icon-large\"></i></button>');\n",
       "    button.click(function (evt) { fig.handle_close(fig, {}); } );\n",
       "    button.mouseover('Stop Interaction', toolbar_mouse_event);\n",
       "    buttongrp.append(button);\n",
       "    var titlebar = this.root.find($('.ui-dialog-titlebar'));\n",
       "    titlebar.prepend(buttongrp);\n",
       "}\n",
       "\n",
       "mpl.figure.prototype._root_extra_style = function(el){\n",
       "    var fig = this\n",
       "    el.on(\"remove\", function(){\n",
       "\tfig.close_ws(fig, {});\n",
       "    });\n",
       "}\n",
       "\n",
       "mpl.figure.prototype._canvas_extra_style = function(el){\n",
       "    // this is important to make the div 'focusable\n",
       "    el.attr('tabindex', 0)\n",
       "    // reach out to IPython and tell the keyboard manager to turn it's self\n",
       "    // off when our div gets focus\n",
       "\n",
       "    // location in version 3\n",
       "    if (IPython.notebook.keyboard_manager) {\n",
       "        IPython.notebook.keyboard_manager.register_events(el);\n",
       "    }\n",
       "    else {\n",
       "        // location in version 2\n",
       "        IPython.keyboard_manager.register_events(el);\n",
       "    }\n",
       "\n",
       "}\n",
       "\n",
       "mpl.figure.prototype._key_event_extra = function(event, name) {\n",
       "    var manager = IPython.notebook.keyboard_manager;\n",
       "    if (!manager)\n",
       "        manager = IPython.keyboard_manager;\n",
       "\n",
       "    // Check for shift+enter\n",
       "    if (event.shiftKey && event.which == 13) {\n",
       "        this.canvas_div.blur();\n",
       "        // select the cell after this one\n",
       "        var index = IPython.notebook.find_cell_index(this.cell_info[0]);\n",
       "        IPython.notebook.select(index + 1);\n",
       "    }\n",
       "}\n",
       "\n",
       "mpl.figure.prototype.handle_save = function(fig, msg) {\n",
       "    fig.ondownload(fig, null);\n",
       "}\n",
       "\n",
       "\n",
       "mpl.find_output_cell = function(html_output) {\n",
       "    // Return the cell and output element which can be found *uniquely* in the notebook.\n",
       "    // Note - this is a bit hacky, but it is done because the \"notebook_saving.Notebook\"\n",
       "    // IPython event is triggered only after the cells have been serialised, which for\n",
       "    // our purposes (turning an active figure into a static one), is too late.\n",
       "    var cells = IPython.notebook.get_cells();\n",
       "    var ncells = cells.length;\n",
       "    for (var i=0; i<ncells; i++) {\n",
       "        var cell = cells[i];\n",
       "        if (cell.cell_type === 'code'){\n",
       "            for (var j=0; j<cell.output_area.outputs.length; j++) {\n",
       "                var data = cell.output_area.outputs[j];\n",
       "                if (data.data) {\n",
       "                    // IPython >= 3 moved mimebundle to data attribute of output\n",
       "                    data = data.data;\n",
       "                }\n",
       "                if (data['text/html'] == html_output) {\n",
       "                    return [cell, data, j];\n",
       "                }\n",
       "            }\n",
       "        }\n",
       "    }\n",
       "}\n",
       "\n",
       "// Register the function which deals with the matplotlib target/channel.\n",
       "// The kernel may be null if the page has been refreshed.\n",
       "if (IPython.notebook.kernel != null) {\n",
       "    IPython.notebook.kernel.comm_manager.register_target('matplotlib', mpl.mpl_figure_comm);\n",
       "}\n"
      ],
      "text/plain": [
       "<IPython.core.display.Javascript object>"
      ]
     },
     "metadata": {},
     "output_type": "display_data"
    },
    {
     "data": {
      "text/html": [
       "<img src=\"data:image/png;base64,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\" width=\"640\">"
      ],
      "text/plain": [
       "<IPython.core.display.HTML object>"
      ]
     },
     "metadata": {},
     "output_type": "display_data"
    },
    {
     "data": {
      "text/plain": [
       "<matplotlib.text.Text at 0x1161e9278>"
      ]
     },
     "execution_count": 47,
     "metadata": {},
     "output_type": "execute_result"
    }
   ],
   "source": [
    "fig=plt.figure()\n",
    "ax=fig.gca()\n",
    "\n",
    "ax.hist(vinfs,50)\n",
    "ax.set_xlabel(\"v (km/s)\")"
   ]
  },
  {
   "cell_type": "code",
   "execution_count": null,
   "metadata": {
    "collapsed": false
   },
   "outputs": [],
   "source": [
    "print(\"Average velocity: %lf+/-%lf\"%(vinfs.mean(),vinfs.std()))"
   ]
  },
  {
   "cell_type": "code",
   "execution_count": null,
   "metadata": {
    "collapsed": true
   },
   "outputs": [],
   "source": [
    "data=np.loadtxt(\"ejected_orbital_parameters.dat\")"
   ]
  },
  {
   "cell_type": "code",
   "execution_count": null,
   "metadata": {
    "collapsed": false
   },
   "outputs": [],
   "source": [
    "fig=plt.figure()\n",
    "ax=fig.gca()\n",
    "\n",
    "vinfs=data[:,13]\n",
    "vinfs=vinfs[vinfs<100]\n",
    "ax.hist(vinfs)"
   ]
  },
  {
   "cell_type": "code",
   "execution_count": null,
   "metadata": {
    "collapsed": true
   },
   "outputs": [],
   "source": [
    "import astropy"
   ]
  },
  {
   "cell_type": "code",
   "execution_count": null,
   "metadata": {
    "collapsed": true
   },
   "outputs": [],
   "source": [
    "import astropy.coordinates as coord\n",
    "import astropy.units as u"
   ]
  },
  {
   "cell_type": "code",
   "execution_count": null,
   "metadata": {
    "collapsed": true
   },
   "outputs": [],
   "source": [
    "c1 = coord.ICRS(ra=45.1128*u.degree, dec=0.380844*u.degree,\n",
    "                distance=(2.09081*u.mas).to(u.pc, u.parallax()),\n",
    "                pm_ra_cosdec=-1.57293*np.cos(0.380844*np.pi/180)*u.mas/u.yr,\n",
    "                pm_dec=-11.6616*u.mas/u.yr,\n",
    "                radial_velocity=2.061*u.km/u.s)"
   ]
  },
  {
   "cell_type": "code",
   "execution_count": null,
   "metadata": {
    "collapsed": false
   },
   "outputs": [],
   "source": [
    "c1.transform_to(coord.Galactic)"
   ]
  },
  {
   "cell_type": "code",
   "execution_count": null,
   "metadata": {
    "collapsed": true
   },
   "outputs": [],
   "source": [
    "gc1 = c1.transform_to(coord.Galactocentric)"
   ]
  },
  {
   "cell_type": "code",
   "execution_count": null,
   "metadata": {
    "collapsed": false
   },
   "outputs": [],
   "source": [
    "print(gc1)"
   ]
  },
  {
   "cell_type": "code",
   "execution_count": null,
   "metadata": {
    "collapsed": false
   },
   "outputs": [],
   "source": [
    "GAIA.iloc[0]"
   ]
  },
  {
   "cell_type": "code",
   "execution_count": null,
   "metadata": {
    "collapsed": true
   },
   "outputs": [],
   "source": [
    "coord.ICRS?"
   ]
  },
  {
   "cell_type": "code",
   "execution_count": null,
   "metadata": {
    "collapsed": true
   },
   "outputs": [],
   "source": [
    "data=pd.read_csv('candidates.csv')"
   ]
  },
  {
   "cell_type": "code",
   "execution_count": null,
   "metadata": {
    "collapsed": false
   },
   "outputs": [],
   "source": [
    "data.sort_values(by=['vrel'])[[\"tmin\",\"dmin\"]]"
   ]
  },
  {
   "cell_type": "code",
   "execution_count": null,
   "metadata": {
    "collapsed": false
   },
   "outputs": [],
   "source": [
    "data.iloc[30].values"
   ]
  },
  {
   "cell_type": "code",
   "execution_count": null,
   "metadata": {
    "collapsed": true
   },
   "outputs": [],
   "source": [
    "data=pd.read_csv('encounters.csv')"
   ]
  },
  {
   "cell_type": "code",
   "execution_count": null,
   "metadata": {
    "collapsed": false
   },
   "outputs": [],
   "source": [
    "data"
   ]
  },
  {
   "cell_type": "code",
   "execution_count": null,
   "metadata": {
    "collapsed": false
   },
   "outputs": [],
   "source": [
    "rhosun=0.1*MSUN/(1e3*PARSEC)**3\n",
    "z=27*PARSEC*1E3\n",
    "dphidz=4*np.pi*GCONST*rhosun*z\n",
    "print(dphidz)"
   ]
  },
  {
   "cell_type": "markdown",
   "metadata": {},
   "source": [
    "Units of gradient of phi: UL^3/(UM UT^2) * UM / UL^3 * UL = UL/UT^2"
   ]
  },
  {
   "cell_type": "code",
   "execution_count": null,
   "metadata": {
    "collapsed": false
   },
   "outputs": [],
   "source": [
    "UL=1*PARSEC*1E3\n",
    "UM=1*MSUN\n",
    "UT=1*YEAR\n",
    "UV=UL/UT\n",
    "print(UM,UL/1e16,UT)\n",
    "G=GCONST/(UL**3/(UM*UT**2))\n",
    "if verbose:print(\"G=\",G)"
   ]
  },
  {
   "cell_type": "code",
   "execution_count": null,
   "metadata": {
    "collapsed": false
   },
   "outputs": [],
   "source": [
    "print(\"dphidz = %e m/s^2\"%dphidz)\n",
    "print(\"dphidz = %e UL/UT^2\"%(dphidz/(UL/UT**2)))"
   ]
  },
  {
   "cell_type": "markdown",
   "metadata": {
    "collapsed": true
   },
   "source": [
    "## Integration results"
   ]
  },
  {
   "cell_type": "code",
   "execution_count": null,
   "metadata": {
    "collapsed": true
   },
   "outputs": [],
   "source": [
    "data=pd.read_csv(\"cloud-int.csv\")"
   ]
  },
  {
   "cell_type": "code",
   "execution_count": null,
   "metadata": {
    "collapsed": false
   },
   "outputs": [],
   "source": [
    "data[\"t\"]"
   ]
  },
  {
   "cell_type": "code",
   "execution_count": null,
   "metadata": {
    "collapsed": false
   },
   "outputs": [],
   "source": [
    "fig=plt.figure()\n",
    "ax=fig.gca()\n",
    "t=data[\"t\"]\n",
    "\n",
    "Rs=data[\"part0-R\"]\n",
    "phis=data[\"part0-phi\"]\n",
    "zs=data[\"part0-Z\"]\n",
    "\n",
    "ax.plot(t,Rs)"
   ]
  },
  {
   "cell_type": "code",
   "execution_count": null,
   "metadata": {
    "collapsed": false
   },
   "outputs": [],
   "source": [
    "fig=plt.figure()\n",
    "ax=fig.add_subplot(111,projection='3d')\n",
    "\n",
    "xs=data[\"part0-x\"].values\n",
    "ys=data[\"part0-y\"].values\n",
    "zs=data[\"part0-z\"].values\n",
    "\n",
    "ax.plot(xs,ys,zs)\n",
    "\n",
    "xs=data[\"part5-x\"].values\n",
    "ys=data[\"part5-y\"].values\n",
    "zs=data[\"part5-z\"].values\n",
    "\n",
    "ax.plot(xs,ys,zs)\n",
    "\n",
    "rmax=max(np.abs(xs).max(),np.abs(ys).max())\n",
    "ax.set_xlim((-rmax,rmax))\n",
    "ax.set_ylim((-rmax,rmax))\n",
    "ax.set_zlim((-1e2,1e2))"
   ]
  },
  {
   "cell_type": "markdown",
   "metadata": {},
   "source": [
    "## Distance from point to interval"
   ]
  },
  {
   "cell_type": "code",
   "execution_count": null,
   "metadata": {
    "collapsed": false
   },
   "outputs": [],
   "source": [
    "\n",
    "#Segment\n",
    "p1=np.array([0,0,0])\n",
    "p2=np.array([1,0,0])\n",
    "\n",
    "#Point\n",
    "p=np.array([1.5,0.5,0])\n",
    "\n",
    "#Segment\n",
    "p1=np.array([-8.19403e+03,-1.17627e+03,2.94740e+01])\n",
    "p2=np.array([-8.19038e+03,-1.19769e+03,2.93844e+01])\n",
    "\n",
    "#Point\n",
    "p=np.array([-8.19157e+03,-1.19456e+03,2.79498e+01])\n",
    "\n",
    "#Position\n",
    "dp=np.dot((p-p1),(p2-p1))/np.linalg.norm(p2-p1)**2*(p2-p1)\n",
    "dm=np.linalg.norm((p-p1)-dp)\n",
    "\n",
    "#Time\n",
    "dt=dp[0]/(p2[0]-p1[0])\n",
    "\n",
    "print(\"Length of segment:\",np.linalg.norm(p2-p1))\n",
    "print(\"Position projection point in segment:\",dp)\n",
    "print(\"Distance from segment:\",dm)\n",
    "print(\"dt:\",dt)\n",
    "\n"
   ]
  },
  {
   "cell_type": "code",
   "execution_count": null,
   "metadata": {
    "collapsed": false
   },
   "outputs": [],
   "source": [
    "fig=plt.figure()\n",
    "ax=fig.add_subplot(111,projection='3d')\n",
    "\n",
    "ax.plot([p1[0],p2[0]],[p1[1],p2[1]],[p1[2],p2[2]])\n",
    "ax.plot([p[0]],[p[1]],[p[2]],'ko')"
   ]
  },
  {
   "cell_type": "code",
   "execution_count": null,
   "metadata": {
    "collapsed": true
   },
   "outputs": [],
   "source": [
    "data=pd.read_csv(\"encounters.csv\")"
   ]
  },
  {
   "cell_type": "code",
   "execution_count": null,
   "metadata": {
    "collapsed": false
   },
   "outputs": [],
   "source": [
    "tmins=np.abs(data.tmin[data.tmin<0])/1e6"
   ]
  },
  {
   "cell_type": "code",
   "execution_count": null,
   "metadata": {
    "collapsed": false
   },
   "outputs": [],
   "source": [
    "fig=plt.figure()\n",
    "ax=fig.gca()\n",
    "ax.hist(tmins,100)\n",
    "\n",
    "ax.set_xlim((0,100))"
   ]
  },
  {
   "cell_type": "code",
   "execution_count": null,
   "metadata": {
    "collapsed": true
   },
   "outputs": [],
   "source": [
    "pot=pd.read_csv('potential.csv')"
   ]
  },
  {
   "cell_type": "code",
   "execution_count": null,
   "metadata": {
    "collapsed": false
   },
   "outputs": [],
   "source": [
    "pot.sort_values(\"dynvrel\")"
   ]
  },
  {
   "cell_type": "code",
   "execution_count": null,
   "metadata": {
    "collapsed": false
   },
   "outputs": [],
   "source": [
    "1e-3/3600*180/np.pi"
   ]
  },
  {
   "cell_type": "code",
   "execution_count": 16,
   "metadata": {
    "collapsed": true
   },
   "outputs": [],
   "source": [
    "data=pd.read_csv(\"potential.csv\")"
   ]
  },
  {
   "cell_type": "code",
   "execution_count": 24,
   "metadata": {
    "collapsed": false
   },
   "outputs": [
    {
     "data": {
      "text/html": [
       "<div>\n",
       "<table border=\"1\" class=\"dataframe\">\n",
       "  <thead>\n",
       "    <tr style=\"text-align: right;\">\n",
       "      <th></th>\n",
       "      <th>hip</th>\n",
       "      <th>dyndmin</th>\n",
       "      <th>vrel</th>\n",
       "    </tr>\n",
       "  </thead>\n",
       "  <tbody>\n",
       "    <tr>\n",
       "      <th>4</th>\n",
       "      <td>43667.0</td>\n",
       "      <td>0.13079</td>\n",
       "      <td>41.50770</td>\n",
       "    </tr>\n",
       "    <tr>\n",
       "      <th>16</th>\n",
       "      <td>86282.0</td>\n",
       "      <td>0.45642</td>\n",
       "      <td>29.02070</td>\n",
       "    </tr>\n",
       "    <tr>\n",
       "      <th>2</th>\n",
       "      <td>NaN</td>\n",
       "      <td>0.99558</td>\n",
       "      <td>453.98400</td>\n",
       "    </tr>\n",
       "    <tr>\n",
       "      <th>1</th>\n",
       "      <td>NaN</td>\n",
       "      <td>1.12612</td>\n",
       "      <td>475.01000</td>\n",
       "    </tr>\n",
       "    <tr>\n",
       "      <th>3</th>\n",
       "      <td>8582.0</td>\n",
       "      <td>1.20241</td>\n",
       "      <td>34.06690</td>\n",
       "    </tr>\n",
       "    <tr>\n",
       "      <th>0</th>\n",
       "      <td>NaN</td>\n",
       "      <td>1.22139</td>\n",
       "      <td>39.57390</td>\n",
       "    </tr>\n",
       "    <tr>\n",
       "      <th>10</th>\n",
       "      <td>91699.0</td>\n",
       "      <td>1.29896</td>\n",
       "      <td>14.07810</td>\n",
       "    </tr>\n",
       "    <tr>\n",
       "      <th>5</th>\n",
       "      <td>42567.0</td>\n",
       "      <td>1.51702</td>\n",
       "      <td>53.28950</td>\n",
       "    </tr>\n",
       "    <tr>\n",
       "      <th>13</th>\n",
       "      <td>85295.0</td>\n",
       "      <td>1.66684</td>\n",
       "      <td>32.92100</td>\n",
       "    </tr>\n",
       "    <tr>\n",
       "      <th>6</th>\n",
       "      <td>40170.0</td>\n",
       "      <td>1.78323</td>\n",
       "      <td>5.30232</td>\n",
       "    </tr>\n",
       "    <tr>\n",
       "      <th>17</th>\n",
       "      <td>45908.0</td>\n",
       "      <td>1.80448</td>\n",
       "      <td>16.41380</td>\n",
       "    </tr>\n",
       "    <tr>\n",
       "      <th>9</th>\n",
       "      <td>95319.0</td>\n",
       "      <td>1.83449</td>\n",
       "      <td>13.37220</td>\n",
       "    </tr>\n",
       "    <tr>\n",
       "      <th>15</th>\n",
       "      <td>92283.0</td>\n",
       "      <td>1.87530</td>\n",
       "      <td>30.82300</td>\n",
       "    </tr>\n",
       "    <tr>\n",
       "      <th>12</th>\n",
       "      <td>85632.0</td>\n",
       "      <td>1.88958</td>\n",
       "      <td>43.56600</td>\n",
       "    </tr>\n",
       "    <tr>\n",
       "      <th>14</th>\n",
       "      <td>82588.0</td>\n",
       "      <td>1.89823</td>\n",
       "      <td>129.88100</td>\n",
       "    </tr>\n",
       "    <tr>\n",
       "      <th>7</th>\n",
       "      <td>97292.0</td>\n",
       "      <td>1.94999</td>\n",
       "      <td>36.67100</td>\n",
       "    </tr>\n",
       "    <tr>\n",
       "      <th>8</th>\n",
       "      <td>97292.0</td>\n",
       "      <td>1.94999</td>\n",
       "      <td>36.67100</td>\n",
       "    </tr>\n",
       "    <tr>\n",
       "      <th>11</th>\n",
       "      <td>58345.0</td>\n",
       "      <td>1.99602</td>\n",
       "      <td>48.98500</td>\n",
       "    </tr>\n",
       "  </tbody>\n",
       "</table>\n",
       "</div>"
      ],
      "text/plain": [
       "        hip  dyndmin       vrel\n",
       "4   43667.0  0.13079   41.50770\n",
       "16  86282.0  0.45642   29.02070\n",
       "2       NaN  0.99558  453.98400\n",
       "1       NaN  1.12612  475.01000\n",
       "3    8582.0  1.20241   34.06690\n",
       "0       NaN  1.22139   39.57390\n",
       "10  91699.0  1.29896   14.07810\n",
       "5   42567.0  1.51702   53.28950\n",
       "13  85295.0  1.66684   32.92100\n",
       "6   40170.0  1.78323    5.30232\n",
       "17  45908.0  1.80448   16.41380\n",
       "9   95319.0  1.83449   13.37220\n",
       "15  92283.0  1.87530   30.82300\n",
       "12  85632.0  1.88958   43.56600\n",
       "14  82588.0  1.89823  129.88100\n",
       "7   97292.0  1.94999   36.67100\n",
       "8   97292.0  1.94999   36.67100\n",
       "11  58345.0  1.99602   48.98500"
      ]
     },
     "execution_count": 24,
     "metadata": {},
     "output_type": "execute_result"
    }
   ],
   "source": [
    "data.sort_values(by=\"dyndmin\")[[\"hip\",\"dyndmin\",\"vrel\"]]"
   ]
  },
  {
   "cell_type": "code",
   "execution_count": 49,
   "metadata": {
    "collapsed": false
   },
   "outputs": [],
   "source": [
    "a=1*((86400*2e30**2)/(2*np.pi*6.67e-11))**(1./3)/(2e30/1e3)"
   ]
  },
  {
   "cell_type": "code",
   "execution_count": 53,
   "metadata": {
    "collapsed": false
   },
   "outputs": [
    {
     "data": {
      "text/plain": [
       "64.15862792893667"
      ]
     },
     "execution_count": 53,
     "metadata": {},
     "output_type": "execute_result"
    }
   ],
   "source": [
    "a*25.5*3.971**(1./3)*1.1**(2./3)*318"
   ]
  },
  {
   "cell_type": "code",
   "execution_count": 52,
   "metadata": {
    "collapsed": false
   },
   "outputs": [
    {
     "name": "stdout",
     "output_type": "stream",
     "text": [
      "1.4910302969047593\n"
     ]
    }
   ],
   "source": [
    "print(a*318)"
   ]
  },
  {
   "cell_type": "code",
   "execution_count": 62,
   "metadata": {
    "collapsed": false
   },
   "outputs": [
    {
     "data": {
      "application/javascript": [
       "/* Put everything inside the global mpl namespace */\n",
       "window.mpl = {};\n",
       "\n",
       "\n",
       "mpl.get_websocket_type = function() {\n",
       "    if (typeof(WebSocket) !== 'undefined') {\n",
       "        return WebSocket;\n",
       "    } else if (typeof(MozWebSocket) !== 'undefined') {\n",
       "        return MozWebSocket;\n",
       "    } else {\n",
       "        alert('Your browser does not have WebSocket support.' +\n",
       "              'Please try Chrome, Safari or Firefox ≥ 6. ' +\n",
       "              'Firefox 4 and 5 are also supported but you ' +\n",
       "              'have to enable WebSockets in about:config.');\n",
       "    };\n",
       "}\n",
       "\n",
       "mpl.figure = function(figure_id, websocket, ondownload, parent_element) {\n",
       "    this.id = figure_id;\n",
       "\n",
       "    this.ws = websocket;\n",
       "\n",
       "    this.supports_binary = (this.ws.binaryType != undefined);\n",
       "\n",
       "    if (!this.supports_binary) {\n",
       "        var warnings = document.getElementById(\"mpl-warnings\");\n",
       "        if (warnings) {\n",
       "            warnings.style.display = 'block';\n",
       "            warnings.textContent = (\n",
       "                \"This browser does not support binary websocket messages. \" +\n",
       "                    \"Performance may be slow.\");\n",
       "        }\n",
       "    }\n",
       "\n",
       "    this.imageObj = new Image();\n",
       "\n",
       "    this.context = undefined;\n",
       "    this.message = undefined;\n",
       "    this.canvas = undefined;\n",
       "    this.rubberband_canvas = undefined;\n",
       "    this.rubberband_context = undefined;\n",
       "    this.format_dropdown = undefined;\n",
       "\n",
       "    this.image_mode = 'full';\n",
       "\n",
       "    this.root = $('<div/>');\n",
       "    this._root_extra_style(this.root)\n",
       "    this.root.attr('style', 'display: inline-block');\n",
       "\n",
       "    $(parent_element).append(this.root);\n",
       "\n",
       "    this._init_header(this);\n",
       "    this._init_canvas(this);\n",
       "    this._init_toolbar(this);\n",
       "\n",
       "    var fig = this;\n",
       "\n",
       "    this.waiting = false;\n",
       "\n",
       "    this.ws.onopen =  function () {\n",
       "            fig.send_message(\"supports_binary\", {value: fig.supports_binary});\n",
       "            fig.send_message(\"send_image_mode\", {});\n",
       "            if (mpl.ratio != 1) {\n",
       "                fig.send_message(\"set_dpi_ratio\", {'dpi_ratio': mpl.ratio});\n",
       "            }\n",
       "            fig.send_message(\"refresh\", {});\n",
       "        }\n",
       "\n",
       "    this.imageObj.onload = function() {\n",
       "            if (fig.image_mode == 'full') {\n",
       "                // Full images could contain transparency (where diff images\n",
       "                // almost always do), so we need to clear the canvas so that\n",
       "                // there is no ghosting.\n",
       "                fig.context.clearRect(0, 0, fig.canvas.width, fig.canvas.height);\n",
       "            }\n",
       "            fig.context.drawImage(fig.imageObj, 0, 0);\n",
       "        };\n",
       "\n",
       "    this.imageObj.onunload = function() {\n",
       "        this.ws.close();\n",
       "    }\n",
       "\n",
       "    this.ws.onmessage = this._make_on_message_function(this);\n",
       "\n",
       "    this.ondownload = ondownload;\n",
       "}\n",
       "\n",
       "mpl.figure.prototype._init_header = function() {\n",
       "    var titlebar = $(\n",
       "        '<div class=\"ui-dialog-titlebar ui-widget-header ui-corner-all ' +\n",
       "        'ui-helper-clearfix\"/>');\n",
       "    var titletext = $(\n",
       "        '<div class=\"ui-dialog-title\" style=\"width: 100%; ' +\n",
       "        'text-align: center; padding: 3px;\"/>');\n",
       "    titlebar.append(titletext)\n",
       "    this.root.append(titlebar);\n",
       "    this.header = titletext[0];\n",
       "}\n",
       "\n",
       "\n",
       "\n",
       "mpl.figure.prototype._canvas_extra_style = function(canvas_div) {\n",
       "\n",
       "}\n",
       "\n",
       "\n",
       "mpl.figure.prototype._root_extra_style = function(canvas_div) {\n",
       "\n",
       "}\n",
       "\n",
       "mpl.figure.prototype._init_canvas = function() {\n",
       "    var fig = this;\n",
       "\n",
       "    var canvas_div = $('<div/>');\n",
       "\n",
       "    canvas_div.attr('style', 'position: relative; clear: both; outline: 0');\n",
       "\n",
       "    function canvas_keyboard_event(event) {\n",
       "        return fig.key_event(event, event['data']);\n",
       "    }\n",
       "\n",
       "    canvas_div.keydown('key_press', canvas_keyboard_event);\n",
       "    canvas_div.keyup('key_release', canvas_keyboard_event);\n",
       "    this.canvas_div = canvas_div\n",
       "    this._canvas_extra_style(canvas_div)\n",
       "    this.root.append(canvas_div);\n",
       "\n",
       "    var canvas = $('<canvas/>');\n",
       "    canvas.addClass('mpl-canvas');\n",
       "    canvas.attr('style', \"left: 0; top: 0; z-index: 0; outline: 0\")\n",
       "\n",
       "    this.canvas = canvas[0];\n",
       "    this.context = canvas[0].getContext(\"2d\");\n",
       "\n",
       "    var backingStore = this.context.backingStorePixelRatio ||\n",
       "\tthis.context.webkitBackingStorePixelRatio ||\n",
       "\tthis.context.mozBackingStorePixelRatio ||\n",
       "\tthis.context.msBackingStorePixelRatio ||\n",
       "\tthis.context.oBackingStorePixelRatio ||\n",
       "\tthis.context.backingStorePixelRatio || 1;\n",
       "\n",
       "    mpl.ratio = (window.devicePixelRatio || 1) / backingStore;\n",
       "\n",
       "    var rubberband = $('<canvas/>');\n",
       "    rubberband.attr('style', \"position: absolute; left: 0; top: 0; z-index: 1;\")\n",
       "\n",
       "    var pass_mouse_events = true;\n",
       "\n",
       "    canvas_div.resizable({\n",
       "        start: function(event, ui) {\n",
       "            pass_mouse_events = false;\n",
       "        },\n",
       "        resize: function(event, ui) {\n",
       "            fig.request_resize(ui.size.width, ui.size.height);\n",
       "        },\n",
       "        stop: function(event, ui) {\n",
       "            pass_mouse_events = true;\n",
       "            fig.request_resize(ui.size.width, ui.size.height);\n",
       "        },\n",
       "    });\n",
       "\n",
       "    function mouse_event_fn(event) {\n",
       "        if (pass_mouse_events)\n",
       "            return fig.mouse_event(event, event['data']);\n",
       "    }\n",
       "\n",
       "    rubberband.mousedown('button_press', mouse_event_fn);\n",
       "    rubberband.mouseup('button_release', mouse_event_fn);\n",
       "    // Throttle sequential mouse events to 1 every 20ms.\n",
       "    rubberband.mousemove('motion_notify', mouse_event_fn);\n",
       "\n",
       "    rubberband.mouseenter('figure_enter', mouse_event_fn);\n",
       "    rubberband.mouseleave('figure_leave', mouse_event_fn);\n",
       "\n",
       "    canvas_div.on(\"wheel\", function (event) {\n",
       "        event = event.originalEvent;\n",
       "        event['data'] = 'scroll'\n",
       "        if (event.deltaY < 0) {\n",
       "            event.step = 1;\n",
       "        } else {\n",
       "            event.step = -1;\n",
       "        }\n",
       "        mouse_event_fn(event);\n",
       "    });\n",
       "\n",
       "    canvas_div.append(canvas);\n",
       "    canvas_div.append(rubberband);\n",
       "\n",
       "    this.rubberband = rubberband;\n",
       "    this.rubberband_canvas = rubberband[0];\n",
       "    this.rubberband_context = rubberband[0].getContext(\"2d\");\n",
       "    this.rubberband_context.strokeStyle = \"#000000\";\n",
       "\n",
       "    this._resize_canvas = function(width, height) {\n",
       "        // Keep the size of the canvas, canvas container, and rubber band\n",
       "        // canvas in synch.\n",
       "        canvas_div.css('width', width)\n",
       "        canvas_div.css('height', height)\n",
       "\n",
       "        canvas.attr('width', width * mpl.ratio);\n",
       "        canvas.attr('height', height * mpl.ratio);\n",
       "        canvas.attr('style', 'width: ' + width + 'px; height: ' + height + 'px;');\n",
       "\n",
       "        rubberband.attr('width', width);\n",
       "        rubberband.attr('height', height);\n",
       "    }\n",
       "\n",
       "    // Set the figure to an initial 600x600px, this will subsequently be updated\n",
       "    // upon first draw.\n",
       "    this._resize_canvas(600, 600);\n",
       "\n",
       "    // Disable right mouse context menu.\n",
       "    $(this.rubberband_canvas).bind(\"contextmenu\",function(e){\n",
       "        return false;\n",
       "    });\n",
       "\n",
       "    function set_focus () {\n",
       "        canvas.focus();\n",
       "        canvas_div.focus();\n",
       "    }\n",
       "\n",
       "    window.setTimeout(set_focus, 100);\n",
       "}\n",
       "\n",
       "mpl.figure.prototype._init_toolbar = function() {\n",
       "    var fig = this;\n",
       "\n",
       "    var nav_element = $('<div/>')\n",
       "    nav_element.attr('style', 'width: 100%');\n",
       "    this.root.append(nav_element);\n",
       "\n",
       "    // Define a callback function for later on.\n",
       "    function toolbar_event(event) {\n",
       "        return fig.toolbar_button_onclick(event['data']);\n",
       "    }\n",
       "    function toolbar_mouse_event(event) {\n",
       "        return fig.toolbar_button_onmouseover(event['data']);\n",
       "    }\n",
       "\n",
       "    for(var toolbar_ind in mpl.toolbar_items) {\n",
       "        var name = mpl.toolbar_items[toolbar_ind][0];\n",
       "        var tooltip = mpl.toolbar_items[toolbar_ind][1];\n",
       "        var image = mpl.toolbar_items[toolbar_ind][2];\n",
       "        var method_name = mpl.toolbar_items[toolbar_ind][3];\n",
       "\n",
       "        if (!name) {\n",
       "            // put a spacer in here.\n",
       "            continue;\n",
       "        }\n",
       "        var button = $('<button/>');\n",
       "        button.addClass('ui-button ui-widget ui-state-default ui-corner-all ' +\n",
       "                        'ui-button-icon-only');\n",
       "        button.attr('role', 'button');\n",
       "        button.attr('aria-disabled', 'false');\n",
       "        button.click(method_name, toolbar_event);\n",
       "        button.mouseover(tooltip, toolbar_mouse_event);\n",
       "\n",
       "        var icon_img = $('<span/>');\n",
       "        icon_img.addClass('ui-button-icon-primary ui-icon');\n",
       "        icon_img.addClass(image);\n",
       "        icon_img.addClass('ui-corner-all');\n",
       "\n",
       "        var tooltip_span = $('<span/>');\n",
       "        tooltip_span.addClass('ui-button-text');\n",
       "        tooltip_span.html(tooltip);\n",
       "\n",
       "        button.append(icon_img);\n",
       "        button.append(tooltip_span);\n",
       "\n",
       "        nav_element.append(button);\n",
       "    }\n",
       "\n",
       "    var fmt_picker_span = $('<span/>');\n",
       "\n",
       "    var fmt_picker = $('<select/>');\n",
       "    fmt_picker.addClass('mpl-toolbar-option ui-widget ui-widget-content');\n",
       "    fmt_picker_span.append(fmt_picker);\n",
       "    nav_element.append(fmt_picker_span);\n",
       "    this.format_dropdown = fmt_picker[0];\n",
       "\n",
       "    for (var ind in mpl.extensions) {\n",
       "        var fmt = mpl.extensions[ind];\n",
       "        var option = $(\n",
       "            '<option/>', {selected: fmt === mpl.default_extension}).html(fmt);\n",
       "        fmt_picker.append(option)\n",
       "    }\n",
       "\n",
       "    // Add hover states to the ui-buttons\n",
       "    $( \".ui-button\" ).hover(\n",
       "        function() { $(this).addClass(\"ui-state-hover\");},\n",
       "        function() { $(this).removeClass(\"ui-state-hover\");}\n",
       "    );\n",
       "\n",
       "    var status_bar = $('<span class=\"mpl-message\"/>');\n",
       "    nav_element.append(status_bar);\n",
       "    this.message = status_bar[0];\n",
       "}\n",
       "\n",
       "mpl.figure.prototype.request_resize = function(x_pixels, y_pixels) {\n",
       "    // Request matplotlib to resize the figure. Matplotlib will then trigger a resize in the client,\n",
       "    // which will in turn request a refresh of the image.\n",
       "    this.send_message('resize', {'width': x_pixels, 'height': y_pixels});\n",
       "}\n",
       "\n",
       "mpl.figure.prototype.send_message = function(type, properties) {\n",
       "    properties['type'] = type;\n",
       "    properties['figure_id'] = this.id;\n",
       "    this.ws.send(JSON.stringify(properties));\n",
       "}\n",
       "\n",
       "mpl.figure.prototype.send_draw_message = function() {\n",
       "    if (!this.waiting) {\n",
       "        this.waiting = true;\n",
       "        this.ws.send(JSON.stringify({type: \"draw\", figure_id: this.id}));\n",
       "    }\n",
       "}\n",
       "\n",
       "\n",
       "mpl.figure.prototype.handle_save = function(fig, msg) {\n",
       "    var format_dropdown = fig.format_dropdown;\n",
       "    var format = format_dropdown.options[format_dropdown.selectedIndex].value;\n",
       "    fig.ondownload(fig, format);\n",
       "}\n",
       "\n",
       "\n",
       "mpl.figure.prototype.handle_resize = function(fig, msg) {\n",
       "    var size = msg['size'];\n",
       "    if (size[0] != fig.canvas.width || size[1] != fig.canvas.height) {\n",
       "        fig._resize_canvas(size[0], size[1]);\n",
       "        fig.send_message(\"refresh\", {});\n",
       "    };\n",
       "}\n",
       "\n",
       "mpl.figure.prototype.handle_rubberband = function(fig, msg) {\n",
       "    var x0 = msg['x0'] / mpl.ratio;\n",
       "    var y0 = (fig.canvas.height - msg['y0']) / mpl.ratio;\n",
       "    var x1 = msg['x1'] / mpl.ratio;\n",
       "    var y1 = (fig.canvas.height - msg['y1']) / mpl.ratio;\n",
       "    x0 = Math.floor(x0) + 0.5;\n",
       "    y0 = Math.floor(y0) + 0.5;\n",
       "    x1 = Math.floor(x1) + 0.5;\n",
       "    y1 = Math.floor(y1) + 0.5;\n",
       "    var min_x = Math.min(x0, x1);\n",
       "    var min_y = Math.min(y0, y1);\n",
       "    var width = Math.abs(x1 - x0);\n",
       "    var height = Math.abs(y1 - y0);\n",
       "\n",
       "    fig.rubberband_context.clearRect(\n",
       "        0, 0, fig.canvas.width, fig.canvas.height);\n",
       "\n",
       "    fig.rubberband_context.strokeRect(min_x, min_y, width, height);\n",
       "}\n",
       "\n",
       "mpl.figure.prototype.handle_figure_label = function(fig, msg) {\n",
       "    // Updates the figure title.\n",
       "    fig.header.textContent = msg['label'];\n",
       "}\n",
       "\n",
       "mpl.figure.prototype.handle_cursor = function(fig, msg) {\n",
       "    var cursor = msg['cursor'];\n",
       "    switch(cursor)\n",
       "    {\n",
       "    case 0:\n",
       "        cursor = 'pointer';\n",
       "        break;\n",
       "    case 1:\n",
       "        cursor = 'default';\n",
       "        break;\n",
       "    case 2:\n",
       "        cursor = 'crosshair';\n",
       "        break;\n",
       "    case 3:\n",
       "        cursor = 'move';\n",
       "        break;\n",
       "    }\n",
       "    fig.rubberband_canvas.style.cursor = cursor;\n",
       "}\n",
       "\n",
       "mpl.figure.prototype.handle_message = function(fig, msg) {\n",
       "    fig.message.textContent = msg['message'];\n",
       "}\n",
       "\n",
       "mpl.figure.prototype.handle_draw = function(fig, msg) {\n",
       "    // Request the server to send over a new figure.\n",
       "    fig.send_draw_message();\n",
       "}\n",
       "\n",
       "mpl.figure.prototype.handle_image_mode = function(fig, msg) {\n",
       "    fig.image_mode = msg['mode'];\n",
       "}\n",
       "\n",
       "mpl.figure.prototype.updated_canvas_event = function() {\n",
       "    // Called whenever the canvas gets updated.\n",
       "    this.send_message(\"ack\", {});\n",
       "}\n",
       "\n",
       "// A function to construct a web socket function for onmessage handling.\n",
       "// Called in the figure constructor.\n",
       "mpl.figure.prototype._make_on_message_function = function(fig) {\n",
       "    return function socket_on_message(evt) {\n",
       "        if (evt.data instanceof Blob) {\n",
       "            /* FIXME: We get \"Resource interpreted as Image but\n",
       "             * transferred with MIME type text/plain:\" errors on\n",
       "             * Chrome.  But how to set the MIME type?  It doesn't seem\n",
       "             * to be part of the websocket stream */\n",
       "            evt.data.type = \"image/png\";\n",
       "\n",
       "            /* Free the memory for the previous frames */\n",
       "            if (fig.imageObj.src) {\n",
       "                (window.URL || window.webkitURL).revokeObjectURL(\n",
       "                    fig.imageObj.src);\n",
       "            }\n",
       "\n",
       "            fig.imageObj.src = (window.URL || window.webkitURL).createObjectURL(\n",
       "                evt.data);\n",
       "            fig.updated_canvas_event();\n",
       "            fig.waiting = false;\n",
       "            return;\n",
       "        }\n",
       "        else if (typeof evt.data === 'string' && evt.data.slice(0, 21) == \"data:image/png;base64\") {\n",
       "            fig.imageObj.src = evt.data;\n",
       "            fig.updated_canvas_event();\n",
       "            fig.waiting = false;\n",
       "            return;\n",
       "        }\n",
       "\n",
       "        var msg = JSON.parse(evt.data);\n",
       "        var msg_type = msg['type'];\n",
       "\n",
       "        // Call the  \"handle_{type}\" callback, which takes\n",
       "        // the figure and JSON message as its only arguments.\n",
       "        try {\n",
       "            var callback = fig[\"handle_\" + msg_type];\n",
       "        } catch (e) {\n",
       "            console.log(\"No handler for the '\" + msg_type + \"' message type: \", msg);\n",
       "            return;\n",
       "        }\n",
       "\n",
       "        if (callback) {\n",
       "            try {\n",
       "                // console.log(\"Handling '\" + msg_type + \"' message: \", msg);\n",
       "                callback(fig, msg);\n",
       "            } catch (e) {\n",
       "                console.log(\"Exception inside the 'handler_\" + msg_type + \"' callback:\", e, e.stack, msg);\n",
       "            }\n",
       "        }\n",
       "    };\n",
       "}\n",
       "\n",
       "// from http://stackoverflow.com/questions/1114465/getting-mouse-location-in-canvas\n",
       "mpl.findpos = function(e) {\n",
       "    //this section is from http://www.quirksmode.org/js/events_properties.html\n",
       "    var targ;\n",
       "    if (!e)\n",
       "        e = window.event;\n",
       "    if (e.target)\n",
       "        targ = e.target;\n",
       "    else if (e.srcElement)\n",
       "        targ = e.srcElement;\n",
       "    if (targ.nodeType == 3) // defeat Safari bug\n",
       "        targ = targ.parentNode;\n",
       "\n",
       "    // jQuery normalizes the pageX and pageY\n",
       "    // pageX,Y are the mouse positions relative to the document\n",
       "    // offset() returns the position of the element relative to the document\n",
       "    var x = e.pageX - $(targ).offset().left;\n",
       "    var y = e.pageY - $(targ).offset().top;\n",
       "\n",
       "    return {\"x\": x, \"y\": y};\n",
       "};\n",
       "\n",
       "/*\n",
       " * return a copy of an object with only non-object keys\n",
       " * we need this to avoid circular references\n",
       " * http://stackoverflow.com/a/24161582/3208463\n",
       " */\n",
       "function simpleKeys (original) {\n",
       "  return Object.keys(original).reduce(function (obj, key) {\n",
       "    if (typeof original[key] !== 'object')\n",
       "        obj[key] = original[key]\n",
       "    return obj;\n",
       "  }, {});\n",
       "}\n",
       "\n",
       "mpl.figure.prototype.mouse_event = function(event, name) {\n",
       "    var canvas_pos = mpl.findpos(event)\n",
       "\n",
       "    if (name === 'button_press')\n",
       "    {\n",
       "        this.canvas.focus();\n",
       "        this.canvas_div.focus();\n",
       "    }\n",
       "\n",
       "    var x = canvas_pos.x * mpl.ratio;\n",
       "    var y = canvas_pos.y * mpl.ratio;\n",
       "\n",
       "    this.send_message(name, {x: x, y: y, button: event.button,\n",
       "                             step: event.step,\n",
       "                             guiEvent: simpleKeys(event)});\n",
       "\n",
       "    /* This prevents the web browser from automatically changing to\n",
       "     * the text insertion cursor when the button is pressed.  We want\n",
       "     * to control all of the cursor setting manually through the\n",
       "     * 'cursor' event from matplotlib */\n",
       "    event.preventDefault();\n",
       "    return false;\n",
       "}\n",
       "\n",
       "mpl.figure.prototype._key_event_extra = function(event, name) {\n",
       "    // Handle any extra behaviour associated with a key event\n",
       "}\n",
       "\n",
       "mpl.figure.prototype.key_event = function(event, name) {\n",
       "\n",
       "    // Prevent repeat events\n",
       "    if (name == 'key_press')\n",
       "    {\n",
       "        if (event.which === this._key)\n",
       "            return;\n",
       "        else\n",
       "            this._key = event.which;\n",
       "    }\n",
       "    if (name == 'key_release')\n",
       "        this._key = null;\n",
       "\n",
       "    var value = '';\n",
       "    if (event.ctrlKey && event.which != 17)\n",
       "        value += \"ctrl+\";\n",
       "    if (event.altKey && event.which != 18)\n",
       "        value += \"alt+\";\n",
       "    if (event.shiftKey && event.which != 16)\n",
       "        value += \"shift+\";\n",
       "\n",
       "    value += 'k';\n",
       "    value += event.which.toString();\n",
       "\n",
       "    this._key_event_extra(event, name);\n",
       "\n",
       "    this.send_message(name, {key: value,\n",
       "                             guiEvent: simpleKeys(event)});\n",
       "    return false;\n",
       "}\n",
       "\n",
       "mpl.figure.prototype.toolbar_button_onclick = function(name) {\n",
       "    if (name == 'download') {\n",
       "        this.handle_save(this, null);\n",
       "    } else {\n",
       "        this.send_message(\"toolbar_button\", {name: name});\n",
       "    }\n",
       "};\n",
       "\n",
       "mpl.figure.prototype.toolbar_button_onmouseover = function(tooltip) {\n",
       "    this.message.textContent = tooltip;\n",
       "};\n",
       "mpl.toolbar_items = [[\"Home\", \"Reset original view\", \"fa fa-home icon-home\", \"home\"], [\"Back\", \"Back to  previous view\", \"fa fa-arrow-left icon-arrow-left\", \"back\"], [\"Forward\", \"Forward to next view\", \"fa fa-arrow-right icon-arrow-right\", \"forward\"], [\"\", \"\", \"\", \"\"], [\"Pan\", \"Pan axes with left mouse, zoom with right\", \"fa fa-arrows icon-move\", \"pan\"], [\"Zoom\", \"Zoom to rectangle\", \"fa fa-square-o icon-check-empty\", \"zoom\"], [\"\", \"\", \"\", \"\"], [\"Download\", \"Download plot\", \"fa fa-floppy-o icon-save\", \"download\"]];\n",
       "\n",
       "mpl.extensions = [\"eps\", \"jpeg\", \"pdf\", \"png\", \"ps\", \"raw\", \"svg\", \"tif\"];\n",
       "\n",
       "mpl.default_extension = \"png\";var comm_websocket_adapter = function(comm) {\n",
       "    // Create a \"websocket\"-like object which calls the given IPython comm\n",
       "    // object with the appropriate methods. Currently this is a non binary\n",
       "    // socket, so there is still some room for performance tuning.\n",
       "    var ws = {};\n",
       "\n",
       "    ws.close = function() {\n",
       "        comm.close()\n",
       "    };\n",
       "    ws.send = function(m) {\n",
       "        //console.log('sending', m);\n",
       "        comm.send(m);\n",
       "    };\n",
       "    // Register the callback with on_msg.\n",
       "    comm.on_msg(function(msg) {\n",
       "        //console.log('receiving', msg['content']['data'], msg);\n",
       "        // Pass the mpl event to the overriden (by mpl) onmessage function.\n",
       "        ws.onmessage(msg['content']['data'])\n",
       "    });\n",
       "    return ws;\n",
       "}\n",
       "\n",
       "mpl.mpl_figure_comm = function(comm, msg) {\n",
       "    // This is the function which gets called when the mpl process\n",
       "    // starts-up an IPython Comm through the \"matplotlib\" channel.\n",
       "\n",
       "    var id = msg.content.data.id;\n",
       "    // Get hold of the div created by the display call when the Comm\n",
       "    // socket was opened in Python.\n",
       "    var element = $(\"#\" + id);\n",
       "    var ws_proxy = comm_websocket_adapter(comm)\n",
       "\n",
       "    function ondownload(figure, format) {\n",
       "        window.open(figure.imageObj.src);\n",
       "    }\n",
       "\n",
       "    var fig = new mpl.figure(id, ws_proxy,\n",
       "                           ondownload,\n",
       "                           element.get(0));\n",
       "\n",
       "    // Call onopen now - mpl needs it, as it is assuming we've passed it a real\n",
       "    // web socket which is closed, not our websocket->open comm proxy.\n",
       "    ws_proxy.onopen();\n",
       "\n",
       "    fig.parent_element = element.get(0);\n",
       "    fig.cell_info = mpl.find_output_cell(\"<div id='\" + id + \"'></div>\");\n",
       "    if (!fig.cell_info) {\n",
       "        console.error(\"Failed to find cell for figure\", id, fig);\n",
       "        return;\n",
       "    }\n",
       "\n",
       "    var output_index = fig.cell_info[2]\n",
       "    var cell = fig.cell_info[0];\n",
       "\n",
       "};\n",
       "\n",
       "mpl.figure.prototype.handle_close = function(fig, msg) {\n",
       "    var width = fig.canvas.width/mpl.ratio\n",
       "    fig.root.unbind('remove')\n",
       "\n",
       "    // Update the output cell to use the data from the current canvas.\n",
       "    fig.push_to_output();\n",
       "    var dataURL = fig.canvas.toDataURL();\n",
       "    // Re-enable the keyboard manager in IPython - without this line, in FF,\n",
       "    // the notebook keyboard shortcuts fail.\n",
       "    IPython.keyboard_manager.enable()\n",
       "    $(fig.parent_element).html('<img src=\"' + dataURL + '\" width=\"' + width + '\">');\n",
       "    fig.close_ws(fig, msg);\n",
       "}\n",
       "\n",
       "mpl.figure.prototype.close_ws = function(fig, msg){\n",
       "    fig.send_message('closing', msg);\n",
       "    // fig.ws.close()\n",
       "}\n",
       "\n",
       "mpl.figure.prototype.push_to_output = function(remove_interactive) {\n",
       "    // Turn the data on the canvas into data in the output cell.\n",
       "    var width = this.canvas.width/mpl.ratio\n",
       "    var dataURL = this.canvas.toDataURL();\n",
       "    this.cell_info[1]['text/html'] = '<img src=\"' + dataURL + '\" width=\"' + width + '\">';\n",
       "}\n",
       "\n",
       "mpl.figure.prototype.updated_canvas_event = function() {\n",
       "    // Tell IPython that the notebook contents must change.\n",
       "    IPython.notebook.set_dirty(true);\n",
       "    this.send_message(\"ack\", {});\n",
       "    var fig = this;\n",
       "    // Wait a second, then push the new image to the DOM so\n",
       "    // that it is saved nicely (might be nice to debounce this).\n",
       "    setTimeout(function () { fig.push_to_output() }, 1000);\n",
       "}\n",
       "\n",
       "mpl.figure.prototype._init_toolbar = function() {\n",
       "    var fig = this;\n",
       "\n",
       "    var nav_element = $('<div/>')\n",
       "    nav_element.attr('style', 'width: 100%');\n",
       "    this.root.append(nav_element);\n",
       "\n",
       "    // Define a callback function for later on.\n",
       "    function toolbar_event(event) {\n",
       "        return fig.toolbar_button_onclick(event['data']);\n",
       "    }\n",
       "    function toolbar_mouse_event(event) {\n",
       "        return fig.toolbar_button_onmouseover(event['data']);\n",
       "    }\n",
       "\n",
       "    for(var toolbar_ind in mpl.toolbar_items){\n",
       "        var name = mpl.toolbar_items[toolbar_ind][0];\n",
       "        var tooltip = mpl.toolbar_items[toolbar_ind][1];\n",
       "        var image = mpl.toolbar_items[toolbar_ind][2];\n",
       "        var method_name = mpl.toolbar_items[toolbar_ind][3];\n",
       "\n",
       "        if (!name) { continue; };\n",
       "\n",
       "        var button = $('<button class=\"btn btn-default\" href=\"#\" title=\"' + name + '\"><i class=\"fa ' + image + ' fa-lg\"></i></button>');\n",
       "        button.click(method_name, toolbar_event);\n",
       "        button.mouseover(tooltip, toolbar_mouse_event);\n",
       "        nav_element.append(button);\n",
       "    }\n",
       "\n",
       "    // Add the status bar.\n",
       "    var status_bar = $('<span class=\"mpl-message\" style=\"text-align:right; float: right;\"/>');\n",
       "    nav_element.append(status_bar);\n",
       "    this.message = status_bar[0];\n",
       "\n",
       "    // Add the close button to the window.\n",
       "    var buttongrp = $('<div class=\"btn-group inline pull-right\"></div>');\n",
       "    var button = $('<button class=\"btn btn-mini btn-primary\" href=\"#\" title=\"Stop Interaction\"><i class=\"fa fa-power-off icon-remove icon-large\"></i></button>');\n",
       "    button.click(function (evt) { fig.handle_close(fig, {}); } );\n",
       "    button.mouseover('Stop Interaction', toolbar_mouse_event);\n",
       "    buttongrp.append(button);\n",
       "    var titlebar = this.root.find($('.ui-dialog-titlebar'));\n",
       "    titlebar.prepend(buttongrp);\n",
       "}\n",
       "\n",
       "mpl.figure.prototype._root_extra_style = function(el){\n",
       "    var fig = this\n",
       "    el.on(\"remove\", function(){\n",
       "\tfig.close_ws(fig, {});\n",
       "    });\n",
       "}\n",
       "\n",
       "mpl.figure.prototype._canvas_extra_style = function(el){\n",
       "    // this is important to make the div 'focusable\n",
       "    el.attr('tabindex', 0)\n",
       "    // reach out to IPython and tell the keyboard manager to turn it's self\n",
       "    // off when our div gets focus\n",
       "\n",
       "    // location in version 3\n",
       "    if (IPython.notebook.keyboard_manager) {\n",
       "        IPython.notebook.keyboard_manager.register_events(el);\n",
       "    }\n",
       "    else {\n",
       "        // location in version 2\n",
       "        IPython.keyboard_manager.register_events(el);\n",
       "    }\n",
       "\n",
       "}\n",
       "\n",
       "mpl.figure.prototype._key_event_extra = function(event, name) {\n",
       "    var manager = IPython.notebook.keyboard_manager;\n",
       "    if (!manager)\n",
       "        manager = IPython.keyboard_manager;\n",
       "\n",
       "    // Check for shift+enter\n",
       "    if (event.shiftKey && event.which == 13) {\n",
       "        this.canvas_div.blur();\n",
       "        // select the cell after this one\n",
       "        var index = IPython.notebook.find_cell_index(this.cell_info[0]);\n",
       "        IPython.notebook.select(index + 1);\n",
       "    }\n",
       "}\n",
       "\n",
       "mpl.figure.prototype.handle_save = function(fig, msg) {\n",
       "    fig.ondownload(fig, null);\n",
       "}\n",
       "\n",
       "\n",
       "mpl.find_output_cell = function(html_output) {\n",
       "    // Return the cell and output element which can be found *uniquely* in the notebook.\n",
       "    // Note - this is a bit hacky, but it is done because the \"notebook_saving.Notebook\"\n",
       "    // IPython event is triggered only after the cells have been serialised, which for\n",
       "    // our purposes (turning an active figure into a static one), is too late.\n",
       "    var cells = IPython.notebook.get_cells();\n",
       "    var ncells = cells.length;\n",
       "    for (var i=0; i<ncells; i++) {\n",
       "        var cell = cells[i];\n",
       "        if (cell.cell_type === 'code'){\n",
       "            for (var j=0; j<cell.output_area.outputs.length; j++) {\n",
       "                var data = cell.output_area.outputs[j];\n",
       "                if (data.data) {\n",
       "                    // IPython >= 3 moved mimebundle to data attribute of output\n",
       "                    data = data.data;\n",
       "                }\n",
       "                if (data['text/html'] == html_output) {\n",
       "                    return [cell, data, j];\n",
       "                }\n",
       "            }\n",
       "        }\n",
       "    }\n",
       "}\n",
       "\n",
       "// Register the function which deals with the matplotlib target/channel.\n",
       "// The kernel may be null if the page has been refreshed.\n",
       "if (IPython.notebook.kernel != null) {\n",
       "    IPython.notebook.kernel.comm_manager.register_target('matplotlib', mpl.mpl_figure_comm);\n",
       "}\n"
      ],
      "text/plain": [
       "<IPython.core.display.Javascript object>"
      ]
     },
     "metadata": {},
     "output_type": "display_data"
    },
    {
     "data": {
      "text/html": [
       "<img src=\"data:image/png;base64,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\" width=\"640\">"
      ],
      "text/plain": [
       "<IPython.core.display.HTML object>"
      ]
     },
     "metadata": {},
     "output_type": "display_data"
    },
    {
     "data": {
      "text/plain": [
       "[<matplotlib.lines.Line2D at 0x118c4b5c0>]"
      ]
     },
     "execution_count": 62,
     "metadata": {},
     "output_type": "execute_result"
    }
   ],
   "source": [
    "fig=plt.figure()\n",
    "ax=fig.gca()\n",
    "\n",
    "ies=np.linspace(0.0,90.0,100)\n",
    "ax.plot(ies,np.sqrt(1-np.sin(ies*np.pi/180)**2))"
   ]
  },
  {
   "cell_type": "code",
   "execution_count": 64,
   "metadata": {
    "collapsed": false
   },
   "outputs": [
    {
     "data": {
      "text/plain": [
       "0.464158883361278"
      ]
     },
     "execution_count": 64,
     "metadata": {},
     "output_type": "execute_result"
    }
   ],
   "source": [
    "(10/1e2)**(1./6)*0.1**(1./6)"
   ]
  },
  {
   "cell_type": "code",
   "execution_count": null,
   "metadata": {
    "collapsed": true
   },
   "outputs": [],
   "source": []
  }
 ],
 "metadata": {
  "kernelspec": {
   "display_name": "Python 3",
   "language": "python",
   "name": "python3"
  },
  "language_info": {
   "codemirror_mode": {
    "name": "ipython",
    "version": 3
   },
   "file_extension": ".py",
   "mimetype": "text/x-python",
   "name": "python",
   "nbconvert_exporter": "python",
   "pygments_lexer": "ipython3",
   "version": "3.6.0"
  }
 },
 "nbformat": 4,
 "nbformat_minor": 2
}
